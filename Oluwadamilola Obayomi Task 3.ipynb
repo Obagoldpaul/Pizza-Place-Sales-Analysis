{
 "cells": [
  {
   "cell_type": "markdown",
   "id": "db44ae7d-1f2f-40d5-958b-ed17886726f3",
   "metadata": {},
   "source": [
    "## Pizza Place Sales Analysis"
   ]
  },
  {
   "cell_type": "code",
   "execution_count": 43,
   "id": "8efa2dc2-5f3b-452f-8b7a-561693aa397d",
   "metadata": {},
   "outputs": [],
   "source": [
    "import pandas as pd\n",
    "\n",
    "import numpy as np\n",
    "\n",
    "import warnings\n",
    "warnings.filterwarnings(\"ignore\")\n",
    "\n",
    "import matplotlib.pyplot as plt"
   ]
  },
  {
   "cell_type": "markdown",
   "id": "203f113f-3de6-4064-8c88-0a8788f6577e",
   "metadata": {},
   "source": [
    "### Importing datasets"
   ]
  },
  {
   "cell_type": "code",
   "execution_count": 2,
   "id": "20e29417-32ba-4ea6-9066-113bb0b243d8",
   "metadata": {},
   "outputs": [],
   "source": [
    "orders = pd.read_csv(\"C:/Users/Paul Obayomi/Documents/Python folder/Datasets/pizza_sales/orders.csv\")"
   ]
  },
  {
   "cell_type": "code",
   "execution_count": 3,
   "id": "8334fa49-c8c2-430d-88da-deeb2e191a54",
   "metadata": {},
   "outputs": [],
   "source": [
    "order_details = pd.read_csv(\"C:/Users/Paul Obayomi/Documents/Python folder/Datasets/pizza_sales/order_details.csv\")"
   ]
  },
  {
   "cell_type": "code",
   "execution_count": 4,
   "id": "e613d845-0f02-4d64-aa9f-8d5ea989ef04",
   "metadata": {},
   "outputs": [],
   "source": [
    "pizzas = pd.read_csv(\"C:/Users/Paul Obayomi/Documents/Python folder/Datasets/pizza_sales/pizzas.csv\")"
   ]
  },
  {
   "cell_type": "code",
   "execution_count": 5,
   "id": "9f42282f-960c-4d93-94b8-c39cb889c3ae",
   "metadata": {},
   "outputs": [],
   "source": [
    "pizza_types = pd.read_csv(\"C:/Users/Paul Obayomi/Documents/Python folder/Datasets/pizza_sales/pizza_types.csv\", encoding='unicode_escape')"
   ]
  },
  {
   "cell_type": "markdown",
   "id": "36f2249f-5d64-4739-abb3-f21b48a95952",
   "metadata": {},
   "source": [
    "### Having a proper glimpse at the datasets"
   ]
  },
  {
   "cell_type": "code",
   "execution_count": 6,
   "id": "335f911d-9133-4de0-8a07-9a3b73544625",
   "metadata": {},
   "outputs": [
    {
     "data": {
      "text/html": [
       "<div>\n",
       "<style scoped>\n",
       "    .dataframe tbody tr th:only-of-type {\n",
       "        vertical-align: middle;\n",
       "    }\n",
       "\n",
       "    .dataframe tbody tr th {\n",
       "        vertical-align: top;\n",
       "    }\n",
       "\n",
       "    .dataframe thead th {\n",
       "        text-align: right;\n",
       "    }\n",
       "</style>\n",
       "<table border=\"1\" class=\"dataframe\">\n",
       "  <thead>\n",
       "    <tr style=\"text-align: right;\">\n",
       "      <th></th>\n",
       "      <th>order_id</th>\n",
       "      <th>date</th>\n",
       "      <th>time</th>\n",
       "    </tr>\n",
       "  </thead>\n",
       "  <tbody>\n",
       "    <tr>\n",
       "      <th>0</th>\n",
       "      <td>1</td>\n",
       "      <td>2015-01-01</td>\n",
       "      <td>11:38:36</td>\n",
       "    </tr>\n",
       "    <tr>\n",
       "      <th>1</th>\n",
       "      <td>2</td>\n",
       "      <td>2015-01-01</td>\n",
       "      <td>11:57:40</td>\n",
       "    </tr>\n",
       "    <tr>\n",
       "      <th>2</th>\n",
       "      <td>3</td>\n",
       "      <td>2015-01-01</td>\n",
       "      <td>12:12:28</td>\n",
       "    </tr>\n",
       "    <tr>\n",
       "      <th>3</th>\n",
       "      <td>4</td>\n",
       "      <td>2015-01-01</td>\n",
       "      <td>12:16:31</td>\n",
       "    </tr>\n",
       "    <tr>\n",
       "      <th>4</th>\n",
       "      <td>5</td>\n",
       "      <td>2015-01-01</td>\n",
       "      <td>12:21:30</td>\n",
       "    </tr>\n",
       "  </tbody>\n",
       "</table>\n",
       "</div>"
      ],
      "text/plain": [
       "   order_id        date      time\n",
       "0         1  2015-01-01  11:38:36\n",
       "1         2  2015-01-01  11:57:40\n",
       "2         3  2015-01-01  12:12:28\n",
       "3         4  2015-01-01  12:16:31\n",
       "4         5  2015-01-01  12:21:30"
      ]
     },
     "execution_count": 6,
     "metadata": {},
     "output_type": "execute_result"
    }
   ],
   "source": [
    "# View order dataset\n",
    "orders.head()"
   ]
  },
  {
   "cell_type": "code",
   "execution_count": 7,
   "id": "7337b423-b4d2-4c2a-b0ea-18e9a060585f",
   "metadata": {},
   "outputs": [
    {
     "data": {
      "text/html": [
       "<div>\n",
       "<style scoped>\n",
       "    .dataframe tbody tr th:only-of-type {\n",
       "        vertical-align: middle;\n",
       "    }\n",
       "\n",
       "    .dataframe tbody tr th {\n",
       "        vertical-align: top;\n",
       "    }\n",
       "\n",
       "    .dataframe thead th {\n",
       "        text-align: right;\n",
       "    }\n",
       "</style>\n",
       "<table border=\"1\" class=\"dataframe\">\n",
       "  <thead>\n",
       "    <tr style=\"text-align: right;\">\n",
       "      <th></th>\n",
       "      <th>order_details_id</th>\n",
       "      <th>order_id</th>\n",
       "      <th>pizza_id</th>\n",
       "      <th>quantity</th>\n",
       "    </tr>\n",
       "  </thead>\n",
       "  <tbody>\n",
       "    <tr>\n",
       "      <th>0</th>\n",
       "      <td>1</td>\n",
       "      <td>1</td>\n",
       "      <td>hawaiian_m</td>\n",
       "      <td>1</td>\n",
       "    </tr>\n",
       "    <tr>\n",
       "      <th>1</th>\n",
       "      <td>2</td>\n",
       "      <td>2</td>\n",
       "      <td>classic_dlx_m</td>\n",
       "      <td>1</td>\n",
       "    </tr>\n",
       "    <tr>\n",
       "      <th>2</th>\n",
       "      <td>3</td>\n",
       "      <td>2</td>\n",
       "      <td>five_cheese_l</td>\n",
       "      <td>1</td>\n",
       "    </tr>\n",
       "    <tr>\n",
       "      <th>3</th>\n",
       "      <td>4</td>\n",
       "      <td>2</td>\n",
       "      <td>ital_supr_l</td>\n",
       "      <td>1</td>\n",
       "    </tr>\n",
       "    <tr>\n",
       "      <th>4</th>\n",
       "      <td>5</td>\n",
       "      <td>2</td>\n",
       "      <td>mexicana_m</td>\n",
       "      <td>1</td>\n",
       "    </tr>\n",
       "  </tbody>\n",
       "</table>\n",
       "</div>"
      ],
      "text/plain": [
       "   order_details_id  order_id       pizza_id  quantity\n",
       "0                 1         1     hawaiian_m         1\n",
       "1                 2         2  classic_dlx_m         1\n",
       "2                 3         2  five_cheese_l         1\n",
       "3                 4         2    ital_supr_l         1\n",
       "4                 5         2     mexicana_m         1"
      ]
     },
     "execution_count": 7,
     "metadata": {},
     "output_type": "execute_result"
    }
   ],
   "source": [
    "# View order details dataset\n",
    "order_details.head()"
   ]
  },
  {
   "cell_type": "code",
   "execution_count": 8,
   "id": "7f36ad1e-29dd-4272-9114-301f313c6b63",
   "metadata": {},
   "outputs": [
    {
     "data": {
      "text/html": [
       "<div>\n",
       "<style scoped>\n",
       "    .dataframe tbody tr th:only-of-type {\n",
       "        vertical-align: middle;\n",
       "    }\n",
       "\n",
       "    .dataframe tbody tr th {\n",
       "        vertical-align: top;\n",
       "    }\n",
       "\n",
       "    .dataframe thead th {\n",
       "        text-align: right;\n",
       "    }\n",
       "</style>\n",
       "<table border=\"1\" class=\"dataframe\">\n",
       "  <thead>\n",
       "    <tr style=\"text-align: right;\">\n",
       "      <th></th>\n",
       "      <th>pizza_id</th>\n",
       "      <th>pizza_type_id</th>\n",
       "      <th>size</th>\n",
       "      <th>price</th>\n",
       "    </tr>\n",
       "  </thead>\n",
       "  <tbody>\n",
       "    <tr>\n",
       "      <th>0</th>\n",
       "      <td>bbq_ckn_s</td>\n",
       "      <td>bbq_ckn</td>\n",
       "      <td>S</td>\n",
       "      <td>12.75</td>\n",
       "    </tr>\n",
       "    <tr>\n",
       "      <th>1</th>\n",
       "      <td>bbq_ckn_m</td>\n",
       "      <td>bbq_ckn</td>\n",
       "      <td>M</td>\n",
       "      <td>16.75</td>\n",
       "    </tr>\n",
       "    <tr>\n",
       "      <th>2</th>\n",
       "      <td>bbq_ckn_l</td>\n",
       "      <td>bbq_ckn</td>\n",
       "      <td>L</td>\n",
       "      <td>20.75</td>\n",
       "    </tr>\n",
       "    <tr>\n",
       "      <th>3</th>\n",
       "      <td>cali_ckn_s</td>\n",
       "      <td>cali_ckn</td>\n",
       "      <td>S</td>\n",
       "      <td>12.75</td>\n",
       "    </tr>\n",
       "    <tr>\n",
       "      <th>4</th>\n",
       "      <td>cali_ckn_m</td>\n",
       "      <td>cali_ckn</td>\n",
       "      <td>M</td>\n",
       "      <td>16.75</td>\n",
       "    </tr>\n",
       "  </tbody>\n",
       "</table>\n",
       "</div>"
      ],
      "text/plain": [
       "     pizza_id pizza_type_id size  price\n",
       "0   bbq_ckn_s       bbq_ckn    S  12.75\n",
       "1   bbq_ckn_m       bbq_ckn    M  16.75\n",
       "2   bbq_ckn_l       bbq_ckn    L  20.75\n",
       "3  cali_ckn_s      cali_ckn    S  12.75\n",
       "4  cali_ckn_m      cali_ckn    M  16.75"
      ]
     },
     "execution_count": 8,
     "metadata": {},
     "output_type": "execute_result"
    }
   ],
   "source": [
    "# View pizza dataset\n",
    "pizzas.head()"
   ]
  },
  {
   "cell_type": "code",
   "execution_count": 9,
   "id": "fa8cdf41-685e-4864-a901-2d6c83ea39fe",
   "metadata": {},
   "outputs": [
    {
     "data": {
      "text/html": [
       "<div>\n",
       "<style scoped>\n",
       "    .dataframe tbody tr th:only-of-type {\n",
       "        vertical-align: middle;\n",
       "    }\n",
       "\n",
       "    .dataframe tbody tr th {\n",
       "        vertical-align: top;\n",
       "    }\n",
       "\n",
       "    .dataframe thead th {\n",
       "        text-align: right;\n",
       "    }\n",
       "</style>\n",
       "<table border=\"1\" class=\"dataframe\">\n",
       "  <thead>\n",
       "    <tr style=\"text-align: right;\">\n",
       "      <th></th>\n",
       "      <th>pizza_type_id</th>\n",
       "      <th>name</th>\n",
       "      <th>category</th>\n",
       "      <th>ingredients</th>\n",
       "    </tr>\n",
       "  </thead>\n",
       "  <tbody>\n",
       "    <tr>\n",
       "      <th>0</th>\n",
       "      <td>bbq_ckn</td>\n",
       "      <td>The Barbecue Chicken Pizza</td>\n",
       "      <td>Chicken</td>\n",
       "      <td>Barbecued Chicken, Red Peppers, Green Peppers,...</td>\n",
       "    </tr>\n",
       "    <tr>\n",
       "      <th>1</th>\n",
       "      <td>cali_ckn</td>\n",
       "      <td>The California Chicken Pizza</td>\n",
       "      <td>Chicken</td>\n",
       "      <td>Chicken, Artichoke, Spinach, Garlic, Jalapeno ...</td>\n",
       "    </tr>\n",
       "    <tr>\n",
       "      <th>2</th>\n",
       "      <td>ckn_alfredo</td>\n",
       "      <td>The Chicken Alfredo Pizza</td>\n",
       "      <td>Chicken</td>\n",
       "      <td>Chicken, Red Onions, Red Peppers, Mushrooms, A...</td>\n",
       "    </tr>\n",
       "    <tr>\n",
       "      <th>3</th>\n",
       "      <td>ckn_pesto</td>\n",
       "      <td>The Chicken Pesto Pizza</td>\n",
       "      <td>Chicken</td>\n",
       "      <td>Chicken, Tomatoes, Red Peppers, Spinach, Garli...</td>\n",
       "    </tr>\n",
       "    <tr>\n",
       "      <th>4</th>\n",
       "      <td>southw_ckn</td>\n",
       "      <td>The Southwest Chicken Pizza</td>\n",
       "      <td>Chicken</td>\n",
       "      <td>Chicken, Tomatoes, Red Peppers, Red Onions, Ja...</td>\n",
       "    </tr>\n",
       "  </tbody>\n",
       "</table>\n",
       "</div>"
      ],
      "text/plain": [
       "  pizza_type_id                          name category  \\\n",
       "0       bbq_ckn    The Barbecue Chicken Pizza  Chicken   \n",
       "1      cali_ckn  The California Chicken Pizza  Chicken   \n",
       "2   ckn_alfredo     The Chicken Alfredo Pizza  Chicken   \n",
       "3     ckn_pesto       The Chicken Pesto Pizza  Chicken   \n",
       "4    southw_ckn   The Southwest Chicken Pizza  Chicken   \n",
       "\n",
       "                                         ingredients  \n",
       "0  Barbecued Chicken, Red Peppers, Green Peppers,...  \n",
       "1  Chicken, Artichoke, Spinach, Garlic, Jalapeno ...  \n",
       "2  Chicken, Red Onions, Red Peppers, Mushrooms, A...  \n",
       "3  Chicken, Tomatoes, Red Peppers, Spinach, Garli...  \n",
       "4  Chicken, Tomatoes, Red Peppers, Red Onions, Ja...  "
      ]
     },
     "execution_count": 9,
     "metadata": {},
     "output_type": "execute_result"
    }
   ],
   "source": [
    "# View pizza types dataset\n",
    "pizza_types.head()"
   ]
  },
  {
   "cell_type": "code",
   "execution_count": 10,
   "id": "4a4654c4-8f0a-44a7-8df8-a18d99da868f",
   "metadata": {},
   "outputs": [
    {
     "name": "stdout",
     "output_type": "stream",
     "text": [
      "<class 'pandas.core.frame.DataFrame'>\n",
      "RangeIndex: 21350 entries, 0 to 21349\n",
      "Data columns (total 3 columns):\n",
      " #   Column    Non-Null Count  Dtype \n",
      "---  ------    --------------  ----- \n",
      " 0   order_id  21350 non-null  int64 \n",
      " 1   date      21350 non-null  object\n",
      " 2   time      21350 non-null  object\n",
      "dtypes: int64(1), object(2)\n",
      "memory usage: 500.5+ KB\n"
     ]
    }
   ],
   "source": [
    "# Orders information\n",
    "orders.info()"
   ]
  },
  {
   "cell_type": "code",
   "execution_count": 11,
   "id": "49d4127a-22b7-4d0a-bc1c-67a360b7fcec",
   "metadata": {},
   "outputs": [
    {
     "name": "stdout",
     "output_type": "stream",
     "text": [
      "<class 'pandas.core.frame.DataFrame'>\n",
      "RangeIndex: 48620 entries, 0 to 48619\n",
      "Data columns (total 4 columns):\n",
      " #   Column            Non-Null Count  Dtype \n",
      "---  ------            --------------  ----- \n",
      " 0   order_details_id  48620 non-null  int64 \n",
      " 1   order_id          48620 non-null  int64 \n",
      " 2   pizza_id          48620 non-null  object\n",
      " 3   quantity          48620 non-null  int64 \n",
      "dtypes: int64(3), object(1)\n",
      "memory usage: 1.5+ MB\n"
     ]
    }
   ],
   "source": [
    "# Order details information\n",
    "order_details.info()"
   ]
  },
  {
   "cell_type": "code",
   "execution_count": 12,
   "id": "ede0000f-eb63-43b6-9e2f-e1bc019afe4b",
   "metadata": {},
   "outputs": [
    {
     "name": "stdout",
     "output_type": "stream",
     "text": [
      "<class 'pandas.core.frame.DataFrame'>\n",
      "RangeIndex: 96 entries, 0 to 95\n",
      "Data columns (total 4 columns):\n",
      " #   Column         Non-Null Count  Dtype  \n",
      "---  ------         --------------  -----  \n",
      " 0   pizza_id       96 non-null     object \n",
      " 1   pizza_type_id  96 non-null     object \n",
      " 2   size           96 non-null     object \n",
      " 3   price          96 non-null     float64\n",
      "dtypes: float64(1), object(3)\n",
      "memory usage: 3.1+ KB\n"
     ]
    }
   ],
   "source": [
    "# Pizzas information\n",
    "pizzas.info()"
   ]
  },
  {
   "cell_type": "code",
   "execution_count": 13,
   "id": "99967838-65b8-4178-8b23-3acd92c2b928",
   "metadata": {},
   "outputs": [
    {
     "name": "stdout",
     "output_type": "stream",
     "text": [
      "<class 'pandas.core.frame.DataFrame'>\n",
      "RangeIndex: 32 entries, 0 to 31\n",
      "Data columns (total 4 columns):\n",
      " #   Column         Non-Null Count  Dtype \n",
      "---  ------         --------------  ----- \n",
      " 0   pizza_type_id  32 non-null     object\n",
      " 1   name           32 non-null     object\n",
      " 2   category       32 non-null     object\n",
      " 3   ingredients    32 non-null     object\n",
      "dtypes: object(4)\n",
      "memory usage: 1.1+ KB\n"
     ]
    }
   ],
   "source": [
    "# Pizza_types information\n",
    "pizza_types.info()"
   ]
  },
  {
   "cell_type": "markdown",
   "id": "6738eaba-dfd3-46f8-b7c2-30d7d63ced69",
   "metadata": {},
   "source": [
    "### Joining or Merging the Datasets"
   ]
  },
  {
   "cell_type": "markdown",
   "id": "52b61180-aad6-4aa3-9c28-8303dd7d75df",
   "metadata": {},
   "source": [
    "inner join is almost always preferred because we're working with actual completed transactions, we want to avoid null values."
   ]
  },
  {
   "cell_type": "code",
   "execution_count": 14,
   "id": "f9bf1258-93e1-4d99-a036-8a6523a1a650",
   "metadata": {},
   "outputs": [],
   "source": [
    "# Step 1: Join orders and order_details\n",
    "merged_df = pd.merge(orders, order_details, on=\"order_id\", how=\"inner\")"
   ]
  },
  {
   "cell_type": "code",
   "execution_count": 15,
   "id": "3fabf703-7f69-48e0-8e87-c020baa953ee",
   "metadata": {},
   "outputs": [
    {
     "data": {
      "text/html": [
       "<div>\n",
       "<style scoped>\n",
       "    .dataframe tbody tr th:only-of-type {\n",
       "        vertical-align: middle;\n",
       "    }\n",
       "\n",
       "    .dataframe tbody tr th {\n",
       "        vertical-align: top;\n",
       "    }\n",
       "\n",
       "    .dataframe thead th {\n",
       "        text-align: right;\n",
       "    }\n",
       "</style>\n",
       "<table border=\"1\" class=\"dataframe\">\n",
       "  <thead>\n",
       "    <tr style=\"text-align: right;\">\n",
       "      <th></th>\n",
       "      <th>order_id</th>\n",
       "      <th>date</th>\n",
       "      <th>time</th>\n",
       "      <th>order_details_id</th>\n",
       "      <th>pizza_id</th>\n",
       "      <th>quantity</th>\n",
       "    </tr>\n",
       "  </thead>\n",
       "  <tbody>\n",
       "    <tr>\n",
       "      <th>0</th>\n",
       "      <td>1</td>\n",
       "      <td>2015-01-01</td>\n",
       "      <td>11:38:36</td>\n",
       "      <td>1</td>\n",
       "      <td>hawaiian_m</td>\n",
       "      <td>1</td>\n",
       "    </tr>\n",
       "    <tr>\n",
       "      <th>1</th>\n",
       "      <td>2</td>\n",
       "      <td>2015-01-01</td>\n",
       "      <td>11:57:40</td>\n",
       "      <td>2</td>\n",
       "      <td>classic_dlx_m</td>\n",
       "      <td>1</td>\n",
       "    </tr>\n",
       "    <tr>\n",
       "      <th>2</th>\n",
       "      <td>2</td>\n",
       "      <td>2015-01-01</td>\n",
       "      <td>11:57:40</td>\n",
       "      <td>3</td>\n",
       "      <td>five_cheese_l</td>\n",
       "      <td>1</td>\n",
       "    </tr>\n",
       "    <tr>\n",
       "      <th>3</th>\n",
       "      <td>2</td>\n",
       "      <td>2015-01-01</td>\n",
       "      <td>11:57:40</td>\n",
       "      <td>4</td>\n",
       "      <td>ital_supr_l</td>\n",
       "      <td>1</td>\n",
       "    </tr>\n",
       "    <tr>\n",
       "      <th>4</th>\n",
       "      <td>2</td>\n",
       "      <td>2015-01-01</td>\n",
       "      <td>11:57:40</td>\n",
       "      <td>5</td>\n",
       "      <td>mexicana_m</td>\n",
       "      <td>1</td>\n",
       "    </tr>\n",
       "  </tbody>\n",
       "</table>\n",
       "</div>"
      ],
      "text/plain": [
       "   order_id        date      time  order_details_id       pizza_id  quantity\n",
       "0         1  2015-01-01  11:38:36                 1     hawaiian_m         1\n",
       "1         2  2015-01-01  11:57:40                 2  classic_dlx_m         1\n",
       "2         2  2015-01-01  11:57:40                 3  five_cheese_l         1\n",
       "3         2  2015-01-01  11:57:40                 4    ital_supr_l         1\n",
       "4         2  2015-01-01  11:57:40                 5     mexicana_m         1"
      ]
     },
     "execution_count": 15,
     "metadata": {},
     "output_type": "execute_result"
    }
   ],
   "source": [
    "merged_df.head()"
   ]
  },
  {
   "cell_type": "code",
   "execution_count": 16,
   "id": "7a09d626-d41f-462e-b78b-a44d7fb0f9cf",
   "metadata": {},
   "outputs": [
    {
     "name": "stdout",
     "output_type": "stream",
     "text": [
      "<class 'pandas.core.frame.DataFrame'>\n",
      "RangeIndex: 48620 entries, 0 to 48619\n",
      "Data columns (total 6 columns):\n",
      " #   Column            Non-Null Count  Dtype \n",
      "---  ------            --------------  ----- \n",
      " 0   order_id          48620 non-null  int64 \n",
      " 1   date              48620 non-null  object\n",
      " 2   time              48620 non-null  object\n",
      " 3   order_details_id  48620 non-null  int64 \n",
      " 4   pizza_id          48620 non-null  object\n",
      " 5   quantity          48620 non-null  int64 \n",
      "dtypes: int64(3), object(3)\n",
      "memory usage: 2.2+ MB\n"
     ]
    }
   ],
   "source": [
    "merged_df.info()"
   ]
  },
  {
   "cell_type": "code",
   "execution_count": 17,
   "id": "1c04d8d1-9b4b-4fa1-835a-c762846ac5d1",
   "metadata": {},
   "outputs": [],
   "source": [
    "# Step 2: Join with pizzas\n",
    "merged_df = pd.merge(merged_df, pizzas, on=\"pizza_id\", how=\"inner\")"
   ]
  },
  {
   "cell_type": "code",
   "execution_count": 18,
   "id": "4d514fd0-420f-49ca-9498-6f353df76766",
   "metadata": {},
   "outputs": [
    {
     "data": {
      "text/html": [
       "<div>\n",
       "<style scoped>\n",
       "    .dataframe tbody tr th:only-of-type {\n",
       "        vertical-align: middle;\n",
       "    }\n",
       "\n",
       "    .dataframe tbody tr th {\n",
       "        vertical-align: top;\n",
       "    }\n",
       "\n",
       "    .dataframe thead th {\n",
       "        text-align: right;\n",
       "    }\n",
       "</style>\n",
       "<table border=\"1\" class=\"dataframe\">\n",
       "  <thead>\n",
       "    <tr style=\"text-align: right;\">\n",
       "      <th></th>\n",
       "      <th>order_id</th>\n",
       "      <th>date</th>\n",
       "      <th>time</th>\n",
       "      <th>order_details_id</th>\n",
       "      <th>pizza_id</th>\n",
       "      <th>quantity</th>\n",
       "      <th>pizza_type_id</th>\n",
       "      <th>size</th>\n",
       "      <th>price</th>\n",
       "    </tr>\n",
       "  </thead>\n",
       "  <tbody>\n",
       "    <tr>\n",
       "      <th>0</th>\n",
       "      <td>1</td>\n",
       "      <td>2015-01-01</td>\n",
       "      <td>11:38:36</td>\n",
       "      <td>1</td>\n",
       "      <td>hawaiian_m</td>\n",
       "      <td>1</td>\n",
       "      <td>hawaiian</td>\n",
       "      <td>M</td>\n",
       "      <td>13.25</td>\n",
       "    </tr>\n",
       "    <tr>\n",
       "      <th>1</th>\n",
       "      <td>2</td>\n",
       "      <td>2015-01-01</td>\n",
       "      <td>11:57:40</td>\n",
       "      <td>2</td>\n",
       "      <td>classic_dlx_m</td>\n",
       "      <td>1</td>\n",
       "      <td>classic_dlx</td>\n",
       "      <td>M</td>\n",
       "      <td>16.00</td>\n",
       "    </tr>\n",
       "    <tr>\n",
       "      <th>2</th>\n",
       "      <td>2</td>\n",
       "      <td>2015-01-01</td>\n",
       "      <td>11:57:40</td>\n",
       "      <td>3</td>\n",
       "      <td>five_cheese_l</td>\n",
       "      <td>1</td>\n",
       "      <td>five_cheese</td>\n",
       "      <td>L</td>\n",
       "      <td>18.50</td>\n",
       "    </tr>\n",
       "    <tr>\n",
       "      <th>3</th>\n",
       "      <td>2</td>\n",
       "      <td>2015-01-01</td>\n",
       "      <td>11:57:40</td>\n",
       "      <td>4</td>\n",
       "      <td>ital_supr_l</td>\n",
       "      <td>1</td>\n",
       "      <td>ital_supr</td>\n",
       "      <td>L</td>\n",
       "      <td>20.75</td>\n",
       "    </tr>\n",
       "    <tr>\n",
       "      <th>4</th>\n",
       "      <td>2</td>\n",
       "      <td>2015-01-01</td>\n",
       "      <td>11:57:40</td>\n",
       "      <td>5</td>\n",
       "      <td>mexicana_m</td>\n",
       "      <td>1</td>\n",
       "      <td>mexicana</td>\n",
       "      <td>M</td>\n",
       "      <td>16.00</td>\n",
       "    </tr>\n",
       "  </tbody>\n",
       "</table>\n",
       "</div>"
      ],
      "text/plain": [
       "   order_id        date      time  order_details_id       pizza_id  quantity  \\\n",
       "0         1  2015-01-01  11:38:36                 1     hawaiian_m         1   \n",
       "1         2  2015-01-01  11:57:40                 2  classic_dlx_m         1   \n",
       "2         2  2015-01-01  11:57:40                 3  five_cheese_l         1   \n",
       "3         2  2015-01-01  11:57:40                 4    ital_supr_l         1   \n",
       "4         2  2015-01-01  11:57:40                 5     mexicana_m         1   \n",
       "\n",
       "  pizza_type_id size  price  \n",
       "0      hawaiian    M  13.25  \n",
       "1   classic_dlx    M  16.00  \n",
       "2   five_cheese    L  18.50  \n",
       "3     ital_supr    L  20.75  \n",
       "4      mexicana    M  16.00  "
      ]
     },
     "execution_count": 18,
     "metadata": {},
     "output_type": "execute_result"
    }
   ],
   "source": [
    "merged_df.head()"
   ]
  },
  {
   "cell_type": "code",
   "execution_count": 19,
   "id": "f53ac6e3-e8a2-421c-b892-c43af7b7a091",
   "metadata": {},
   "outputs": [],
   "source": [
    "# Step 3: Join with pizza_types\n",
    "merged_df = pd.merge(merged_df, pizza_types, on=\"pizza_type_id\", how=\"inner\")"
   ]
  },
  {
   "cell_type": "code",
   "execution_count": 20,
   "id": "b2d82ee8-3d71-4eaa-a218-039626e9bec9",
   "metadata": {},
   "outputs": [
    {
     "data": {
      "text/html": [
       "<div>\n",
       "<style scoped>\n",
       "    .dataframe tbody tr th:only-of-type {\n",
       "        vertical-align: middle;\n",
       "    }\n",
       "\n",
       "    .dataframe tbody tr th {\n",
       "        vertical-align: top;\n",
       "    }\n",
       "\n",
       "    .dataframe thead th {\n",
       "        text-align: right;\n",
       "    }\n",
       "</style>\n",
       "<table border=\"1\" class=\"dataframe\">\n",
       "  <thead>\n",
       "    <tr style=\"text-align: right;\">\n",
       "      <th></th>\n",
       "      <th>order_id</th>\n",
       "      <th>date</th>\n",
       "      <th>time</th>\n",
       "      <th>order_details_id</th>\n",
       "      <th>pizza_id</th>\n",
       "      <th>quantity</th>\n",
       "      <th>pizza_type_id</th>\n",
       "      <th>size</th>\n",
       "      <th>price</th>\n",
       "      <th>name</th>\n",
       "      <th>category</th>\n",
       "      <th>ingredients</th>\n",
       "    </tr>\n",
       "  </thead>\n",
       "  <tbody>\n",
       "    <tr>\n",
       "      <th>0</th>\n",
       "      <td>1</td>\n",
       "      <td>2015-01-01</td>\n",
       "      <td>11:38:36</td>\n",
       "      <td>1</td>\n",
       "      <td>hawaiian_m</td>\n",
       "      <td>1</td>\n",
       "      <td>hawaiian</td>\n",
       "      <td>M</td>\n",
       "      <td>13.25</td>\n",
       "      <td>The Hawaiian Pizza</td>\n",
       "      <td>Classic</td>\n",
       "      <td>Sliced Ham, Pineapple, Mozzarella Cheese</td>\n",
       "    </tr>\n",
       "    <tr>\n",
       "      <th>1</th>\n",
       "      <td>2</td>\n",
       "      <td>2015-01-01</td>\n",
       "      <td>11:57:40</td>\n",
       "      <td>2</td>\n",
       "      <td>classic_dlx_m</td>\n",
       "      <td>1</td>\n",
       "      <td>classic_dlx</td>\n",
       "      <td>M</td>\n",
       "      <td>16.00</td>\n",
       "      <td>The Classic Deluxe Pizza</td>\n",
       "      <td>Classic</td>\n",
       "      <td>Pepperoni, Mushrooms, Red Onions, Red Peppers,...</td>\n",
       "    </tr>\n",
       "    <tr>\n",
       "      <th>2</th>\n",
       "      <td>2</td>\n",
       "      <td>2015-01-01</td>\n",
       "      <td>11:57:40</td>\n",
       "      <td>3</td>\n",
       "      <td>five_cheese_l</td>\n",
       "      <td>1</td>\n",
       "      <td>five_cheese</td>\n",
       "      <td>L</td>\n",
       "      <td>18.50</td>\n",
       "      <td>The Five Cheese Pizza</td>\n",
       "      <td>Veggie</td>\n",
       "      <td>Mozzarella Cheese, Provolone Cheese, Smoked Go...</td>\n",
       "    </tr>\n",
       "    <tr>\n",
       "      <th>3</th>\n",
       "      <td>2</td>\n",
       "      <td>2015-01-01</td>\n",
       "      <td>11:57:40</td>\n",
       "      <td>4</td>\n",
       "      <td>ital_supr_l</td>\n",
       "      <td>1</td>\n",
       "      <td>ital_supr</td>\n",
       "      <td>L</td>\n",
       "      <td>20.75</td>\n",
       "      <td>The Italian Supreme Pizza</td>\n",
       "      <td>Supreme</td>\n",
       "      <td>Calabrese Salami, Capocollo, Tomatoes, Red Oni...</td>\n",
       "    </tr>\n",
       "    <tr>\n",
       "      <th>4</th>\n",
       "      <td>2</td>\n",
       "      <td>2015-01-01</td>\n",
       "      <td>11:57:40</td>\n",
       "      <td>5</td>\n",
       "      <td>mexicana_m</td>\n",
       "      <td>1</td>\n",
       "      <td>mexicana</td>\n",
       "      <td>M</td>\n",
       "      <td>16.00</td>\n",
       "      <td>The Mexicana Pizza</td>\n",
       "      <td>Veggie</td>\n",
       "      <td>Tomatoes, Red Peppers, Jalapeno Peppers, Red O...</td>\n",
       "    </tr>\n",
       "  </tbody>\n",
       "</table>\n",
       "</div>"
      ],
      "text/plain": [
       "   order_id        date      time  order_details_id       pizza_id  quantity  \\\n",
       "0         1  2015-01-01  11:38:36                 1     hawaiian_m         1   \n",
       "1         2  2015-01-01  11:57:40                 2  classic_dlx_m         1   \n",
       "2         2  2015-01-01  11:57:40                 3  five_cheese_l         1   \n",
       "3         2  2015-01-01  11:57:40                 4    ital_supr_l         1   \n",
       "4         2  2015-01-01  11:57:40                 5     mexicana_m         1   \n",
       "\n",
       "  pizza_type_id size  price                       name category  \\\n",
       "0      hawaiian    M  13.25         The Hawaiian Pizza  Classic   \n",
       "1   classic_dlx    M  16.00   The Classic Deluxe Pizza  Classic   \n",
       "2   five_cheese    L  18.50      The Five Cheese Pizza   Veggie   \n",
       "3     ital_supr    L  20.75  The Italian Supreme Pizza  Supreme   \n",
       "4      mexicana    M  16.00         The Mexicana Pizza   Veggie   \n",
       "\n",
       "                                         ingredients  \n",
       "0           Sliced Ham, Pineapple, Mozzarella Cheese  \n",
       "1  Pepperoni, Mushrooms, Red Onions, Red Peppers,...  \n",
       "2  Mozzarella Cheese, Provolone Cheese, Smoked Go...  \n",
       "3  Calabrese Salami, Capocollo, Tomatoes, Red Oni...  \n",
       "4  Tomatoes, Red Peppers, Jalapeno Peppers, Red O...  "
      ]
     },
     "execution_count": 20,
     "metadata": {},
     "output_type": "execute_result"
    }
   ],
   "source": [
    "merged_df.head()"
   ]
  },
  {
   "cell_type": "code",
   "execution_count": 21,
   "id": "153f54c4-de72-43a9-be32-b416fc627185",
   "metadata": {},
   "outputs": [
    {
     "name": "stdout",
     "output_type": "stream",
     "text": [
      "<class 'pandas.core.frame.DataFrame'>\n",
      "RangeIndex: 48620 entries, 0 to 48619\n",
      "Data columns (total 12 columns):\n",
      " #   Column            Non-Null Count  Dtype  \n",
      "---  ------            --------------  -----  \n",
      " 0   order_id          48620 non-null  int64  \n",
      " 1   date              48620 non-null  object \n",
      " 2   time              48620 non-null  object \n",
      " 3   order_details_id  48620 non-null  int64  \n",
      " 4   pizza_id          48620 non-null  object \n",
      " 5   quantity          48620 non-null  int64  \n",
      " 6   pizza_type_id     48620 non-null  object \n",
      " 7   size              48620 non-null  object \n",
      " 8   price             48620 non-null  float64\n",
      " 9   name              48620 non-null  object \n",
      " 10  category          48620 non-null  object \n",
      " 11  ingredients       48620 non-null  object \n",
      "dtypes: float64(1), int64(3), object(8)\n",
      "memory usage: 4.5+ MB\n"
     ]
    }
   ],
   "source": [
    "# View the complete merged datasets\n",
    "merged_df.info()"
   ]
  },
  {
   "cell_type": "markdown",
   "id": "b86c3eb1-0ab9-47cd-be57-53766ed90227",
   "metadata": {},
   "source": [
    "### Data Cleaning & Exploring"
   ]
  },
  {
   "cell_type": "code",
   "execution_count": 22,
   "id": "5991c0e1-f66d-40b5-b55c-0c84eee1c614",
   "metadata": {},
   "outputs": [],
   "source": [
    "# Convert from object to datetime\n",
    "merged_df[\"date\"] = pd.to_datetime(merged_df[\"date\"])"
   ]
  },
  {
   "cell_type": "code",
   "execution_count": 23,
   "id": "a6f16178-1b41-45dd-9192-7b04c4609ac3",
   "metadata": {},
   "outputs": [],
   "source": [
    "# Convert object to time data type\n",
    "merged_df[\"time\"] = pd.to_datetime(merged_df[\"time\"], format=\"%H:%M:%S\")"
   ]
  },
  {
   "cell_type": "code",
   "execution_count": 24,
   "id": "9a9475cd-13ae-4e3d-9bf8-8a1bcdb8525d",
   "metadata": {},
   "outputs": [
    {
     "name": "stdout",
     "output_type": "stream",
     "text": [
      "<class 'pandas.core.frame.DataFrame'>\n",
      "RangeIndex: 48620 entries, 0 to 48619\n",
      "Data columns (total 12 columns):\n",
      " #   Column            Non-Null Count  Dtype         \n",
      "---  ------            --------------  -----         \n",
      " 0   order_id          48620 non-null  int64         \n",
      " 1   date              48620 non-null  datetime64[ns]\n",
      " 2   time              48620 non-null  datetime64[ns]\n",
      " 3   order_details_id  48620 non-null  int64         \n",
      " 4   pizza_id          48620 non-null  object        \n",
      " 5   quantity          48620 non-null  int64         \n",
      " 6   pizza_type_id     48620 non-null  object        \n",
      " 7   size              48620 non-null  object        \n",
      " 8   price             48620 non-null  float64       \n",
      " 9   name              48620 non-null  object        \n",
      " 10  category          48620 non-null  object        \n",
      " 11  ingredients       48620 non-null  object        \n",
      "dtypes: datetime64[ns](2), float64(1), int64(3), object(6)\n",
      "memory usage: 4.5+ MB\n"
     ]
    }
   ],
   "source": [
    "merged_df.info()"
   ]
  },
  {
   "cell_type": "code",
   "execution_count": 25,
   "id": "e99b68c2-8c03-4d19-86e2-8fad0cd99b4c",
   "metadata": {},
   "outputs": [
    {
     "data": {
      "text/html": [
       "<div>\n",
       "<style scoped>\n",
       "    .dataframe tbody tr th:only-of-type {\n",
       "        vertical-align: middle;\n",
       "    }\n",
       "\n",
       "    .dataframe tbody tr th {\n",
       "        vertical-align: top;\n",
       "    }\n",
       "\n",
       "    .dataframe thead th {\n",
       "        text-align: right;\n",
       "    }\n",
       "</style>\n",
       "<table border=\"1\" class=\"dataframe\">\n",
       "  <thead>\n",
       "    <tr style=\"text-align: right;\">\n",
       "      <th></th>\n",
       "      <th>order_id</th>\n",
       "      <th>date</th>\n",
       "      <th>time</th>\n",
       "      <th>order_details_id</th>\n",
       "      <th>pizza_id</th>\n",
       "      <th>quantity</th>\n",
       "      <th>pizza_type_id</th>\n",
       "      <th>size</th>\n",
       "      <th>price</th>\n",
       "      <th>name</th>\n",
       "      <th>category</th>\n",
       "      <th>ingredients</th>\n",
       "    </tr>\n",
       "  </thead>\n",
       "  <tbody>\n",
       "    <tr>\n",
       "      <th>0</th>\n",
       "      <td>1</td>\n",
       "      <td>2015-01-01</td>\n",
       "      <td>1900-01-01 11:38:36</td>\n",
       "      <td>1</td>\n",
       "      <td>hawaiian_m</td>\n",
       "      <td>1</td>\n",
       "      <td>hawaiian</td>\n",
       "      <td>M</td>\n",
       "      <td>13.25</td>\n",
       "      <td>The Hawaiian Pizza</td>\n",
       "      <td>Classic</td>\n",
       "      <td>Sliced Ham, Pineapple, Mozzarella Cheese</td>\n",
       "    </tr>\n",
       "    <tr>\n",
       "      <th>1</th>\n",
       "      <td>2</td>\n",
       "      <td>2015-01-01</td>\n",
       "      <td>1900-01-01 11:57:40</td>\n",
       "      <td>2</td>\n",
       "      <td>classic_dlx_m</td>\n",
       "      <td>1</td>\n",
       "      <td>classic_dlx</td>\n",
       "      <td>M</td>\n",
       "      <td>16.00</td>\n",
       "      <td>The Classic Deluxe Pizza</td>\n",
       "      <td>Classic</td>\n",
       "      <td>Pepperoni, Mushrooms, Red Onions, Red Peppers,...</td>\n",
       "    </tr>\n",
       "    <tr>\n",
       "      <th>2</th>\n",
       "      <td>2</td>\n",
       "      <td>2015-01-01</td>\n",
       "      <td>1900-01-01 11:57:40</td>\n",
       "      <td>3</td>\n",
       "      <td>five_cheese_l</td>\n",
       "      <td>1</td>\n",
       "      <td>five_cheese</td>\n",
       "      <td>L</td>\n",
       "      <td>18.50</td>\n",
       "      <td>The Five Cheese Pizza</td>\n",
       "      <td>Veggie</td>\n",
       "      <td>Mozzarella Cheese, Provolone Cheese, Smoked Go...</td>\n",
       "    </tr>\n",
       "    <tr>\n",
       "      <th>3</th>\n",
       "      <td>2</td>\n",
       "      <td>2015-01-01</td>\n",
       "      <td>1900-01-01 11:57:40</td>\n",
       "      <td>4</td>\n",
       "      <td>ital_supr_l</td>\n",
       "      <td>1</td>\n",
       "      <td>ital_supr</td>\n",
       "      <td>L</td>\n",
       "      <td>20.75</td>\n",
       "      <td>The Italian Supreme Pizza</td>\n",
       "      <td>Supreme</td>\n",
       "      <td>Calabrese Salami, Capocollo, Tomatoes, Red Oni...</td>\n",
       "    </tr>\n",
       "    <tr>\n",
       "      <th>4</th>\n",
       "      <td>2</td>\n",
       "      <td>2015-01-01</td>\n",
       "      <td>1900-01-01 11:57:40</td>\n",
       "      <td>5</td>\n",
       "      <td>mexicana_m</td>\n",
       "      <td>1</td>\n",
       "      <td>mexicana</td>\n",
       "      <td>M</td>\n",
       "      <td>16.00</td>\n",
       "      <td>The Mexicana Pizza</td>\n",
       "      <td>Veggie</td>\n",
       "      <td>Tomatoes, Red Peppers, Jalapeno Peppers, Red O...</td>\n",
       "    </tr>\n",
       "  </tbody>\n",
       "</table>\n",
       "</div>"
      ],
      "text/plain": [
       "   order_id       date                time  order_details_id       pizza_id  \\\n",
       "0         1 2015-01-01 1900-01-01 11:38:36                 1     hawaiian_m   \n",
       "1         2 2015-01-01 1900-01-01 11:57:40                 2  classic_dlx_m   \n",
       "2         2 2015-01-01 1900-01-01 11:57:40                 3  five_cheese_l   \n",
       "3         2 2015-01-01 1900-01-01 11:57:40                 4    ital_supr_l   \n",
       "4         2 2015-01-01 1900-01-01 11:57:40                 5     mexicana_m   \n",
       "\n",
       "   quantity pizza_type_id size  price                       name category  \\\n",
       "0         1      hawaiian    M  13.25         The Hawaiian Pizza  Classic   \n",
       "1         1   classic_dlx    M  16.00   The Classic Deluxe Pizza  Classic   \n",
       "2         1   five_cheese    L  18.50      The Five Cheese Pizza   Veggie   \n",
       "3         1     ital_supr    L  20.75  The Italian Supreme Pizza  Supreme   \n",
       "4         1      mexicana    M  16.00         The Mexicana Pizza   Veggie   \n",
       "\n",
       "                                         ingredients  \n",
       "0           Sliced Ham, Pineapple, Mozzarella Cheese  \n",
       "1  Pepperoni, Mushrooms, Red Onions, Red Peppers,...  \n",
       "2  Mozzarella Cheese, Provolone Cheese, Smoked Go...  \n",
       "3  Calabrese Salami, Capocollo, Tomatoes, Red Oni...  \n",
       "4  Tomatoes, Red Peppers, Jalapeno Peppers, Red O...  "
      ]
     },
     "execution_count": 25,
     "metadata": {},
     "output_type": "execute_result"
    }
   ],
   "source": [
    "merged_df.head()"
   ]
  },
  {
   "cell_type": "markdown",
   "id": "5de46019-a7d0-4f6e-9f3c-7db7b371f7b9",
   "metadata": {},
   "source": [
    "- This is the expected behavior when you use pandas.to_datetime() on a time-only string (like \"11:38:36\").Since there's no date in the string, pandas assumes a default date of 1900-01-01, which is harmless, we can still extract hour, minute, or second — the date won't affect those operations."
   ]
  },
  {
   "cell_type": "code",
   "execution_count": 26,
   "id": "9054fbb8-fbeb-4ae0-919e-d8259aa6b474",
   "metadata": {},
   "outputs": [
    {
     "data": {
      "text/plain": [
       "order_id            0\n",
       "date                0\n",
       "time                0\n",
       "order_details_id    0\n",
       "pizza_id            0\n",
       "quantity            0\n",
       "pizza_type_id       0\n",
       "size                0\n",
       "price               0\n",
       "name                0\n",
       "category            0\n",
       "ingredients         0\n",
       "dtype: int64"
      ]
     },
     "execution_count": 26,
     "metadata": {},
     "output_type": "execute_result"
    }
   ],
   "source": [
    "# Check for null values\n",
    "merged_df.isna().sum()"
   ]
  },
  {
   "cell_type": "code",
   "execution_count": 27,
   "id": "0b4ec5c4-3b38-466e-99b9-1cbc2622797c",
   "metadata": {},
   "outputs": [
    {
     "data": {
      "text/plain": [
       "0"
      ]
     },
     "execution_count": 27,
     "metadata": {},
     "output_type": "execute_result"
    }
   ],
   "source": [
    "# Check for duplicates\n",
    "merged_df.duplicated().sum()"
   ]
  },
  {
   "cell_type": "code",
   "execution_count": 28,
   "id": "a115d345-54b9-46be-b110-df2c7978f234",
   "metadata": {},
   "outputs": [
    {
     "data": {
      "text/plain": [
       "pizza_type_id\n",
       "classic_dlx     2416\n",
       "bbq_ckn         2372\n",
       "hawaiian        2370\n",
       "pepperoni       2369\n",
       "thai_ckn        2315\n",
       "cali_ckn        2302\n",
       "sicilian        1887\n",
       "spicy_ital      1887\n",
       "southw_ckn      1885\n",
       "four_cheese     1850\n",
       "ital_supr       1849\n",
       "big_meat        1811\n",
       "veggie_veg      1510\n",
       "mexicana        1456\n",
       "napolitana      1451\n",
       "spinach_fet     1432\n",
       "prsc_argla      1428\n",
       "peppr_salami    1422\n",
       "ital_cpcllo     1414\n",
       "the_greek       1406\n",
       "five_cheese     1359\n",
       "pep_msh_pep     1342\n",
       "green_garden     987\n",
       "ckn_alfredo      980\n",
       "ital_veggie      975\n",
       "ckn_pesto        961\n",
       "spin_pesto       957\n",
       "soppressata      957\n",
       "spinach_supr     940\n",
       "calabrese        927\n",
       "mediterraneo     923\n",
       "brie_carre       480\n",
       "Name: count, dtype: int64"
      ]
     },
     "execution_count": 28,
     "metadata": {},
     "output_type": "execute_result"
    }
   ],
   "source": [
    "# Explore pizza type id\n",
    "merged_df[\"pizza_type_id\"].value_counts()"
   ]
  },
  {
   "cell_type": "code",
   "execution_count": 29,
   "id": "3750a28c-7992-434e-939b-009ea952eaab",
   "metadata": {},
   "outputs": [
    {
     "data": {
      "text/plain": [
       "size\n",
       "L      18526\n",
       "M      15385\n",
       "S      14137\n",
       "XL       544\n",
       "XXL       28\n",
       "Name: count, dtype: int64"
      ]
     },
     "execution_count": 29,
     "metadata": {},
     "output_type": "execute_result"
    }
   ],
   "source": [
    "# Explore pizza sizes\n",
    "merged_df[\"size\"].value_counts()"
   ]
  },
  {
   "cell_type": "code",
   "execution_count": 30,
   "id": "9327cc00-0d78-4193-b461-263a1e8e003b",
   "metadata": {},
   "outputs": [
    {
     "data": {
      "text/plain": [
       "category\n",
       "Classic    14579\n",
       "Supreme    11777\n",
       "Veggie     11449\n",
       "Chicken    10815\n",
       "Name: count, dtype: int64"
      ]
     },
     "execution_count": 30,
     "metadata": {},
     "output_type": "execute_result"
    }
   ],
   "source": [
    "# Explore pizza categories\n",
    "merged_df[\"category\"].value_counts()"
   ]
  },
  {
   "cell_type": "code",
   "execution_count": 31,
   "id": "741fbc6a-42c0-4559-9ad9-bac58d02774e",
   "metadata": {},
   "outputs": [],
   "source": [
    "# Create the Sales column\n",
    "merged_df[\"sales\"] = merged_df[\"quantity\"] * merged_df[\"price\"]"
   ]
  },
  {
   "cell_type": "code",
   "execution_count": 32,
   "id": "a4b4bf5e-bd09-4bdd-8900-9907ec60ce7e",
   "metadata": {},
   "outputs": [
    {
     "data": {
      "text/html": [
       "<div>\n",
       "<style scoped>\n",
       "    .dataframe tbody tr th:only-of-type {\n",
       "        vertical-align: middle;\n",
       "    }\n",
       "\n",
       "    .dataframe tbody tr th {\n",
       "        vertical-align: top;\n",
       "    }\n",
       "\n",
       "    .dataframe thead th {\n",
       "        text-align: right;\n",
       "    }\n",
       "</style>\n",
       "<table border=\"1\" class=\"dataframe\">\n",
       "  <thead>\n",
       "    <tr style=\"text-align: right;\">\n",
       "      <th></th>\n",
       "      <th>order_id</th>\n",
       "      <th>date</th>\n",
       "      <th>time</th>\n",
       "      <th>order_details_id</th>\n",
       "      <th>pizza_id</th>\n",
       "      <th>quantity</th>\n",
       "      <th>pizza_type_id</th>\n",
       "      <th>size</th>\n",
       "      <th>price</th>\n",
       "      <th>name</th>\n",
       "      <th>category</th>\n",
       "      <th>ingredients</th>\n",
       "      <th>sales</th>\n",
       "    </tr>\n",
       "  </thead>\n",
       "  <tbody>\n",
       "    <tr>\n",
       "      <th>0</th>\n",
       "      <td>1</td>\n",
       "      <td>2015-01-01</td>\n",
       "      <td>1900-01-01 11:38:36</td>\n",
       "      <td>1</td>\n",
       "      <td>hawaiian_m</td>\n",
       "      <td>1</td>\n",
       "      <td>hawaiian</td>\n",
       "      <td>M</td>\n",
       "      <td>13.25</td>\n",
       "      <td>The Hawaiian Pizza</td>\n",
       "      <td>Classic</td>\n",
       "      <td>Sliced Ham, Pineapple, Mozzarella Cheese</td>\n",
       "      <td>13.25</td>\n",
       "    </tr>\n",
       "    <tr>\n",
       "      <th>1</th>\n",
       "      <td>2</td>\n",
       "      <td>2015-01-01</td>\n",
       "      <td>1900-01-01 11:57:40</td>\n",
       "      <td>2</td>\n",
       "      <td>classic_dlx_m</td>\n",
       "      <td>1</td>\n",
       "      <td>classic_dlx</td>\n",
       "      <td>M</td>\n",
       "      <td>16.00</td>\n",
       "      <td>The Classic Deluxe Pizza</td>\n",
       "      <td>Classic</td>\n",
       "      <td>Pepperoni, Mushrooms, Red Onions, Red Peppers,...</td>\n",
       "      <td>16.00</td>\n",
       "    </tr>\n",
       "    <tr>\n",
       "      <th>2</th>\n",
       "      <td>2</td>\n",
       "      <td>2015-01-01</td>\n",
       "      <td>1900-01-01 11:57:40</td>\n",
       "      <td>3</td>\n",
       "      <td>five_cheese_l</td>\n",
       "      <td>1</td>\n",
       "      <td>five_cheese</td>\n",
       "      <td>L</td>\n",
       "      <td>18.50</td>\n",
       "      <td>The Five Cheese Pizza</td>\n",
       "      <td>Veggie</td>\n",
       "      <td>Mozzarella Cheese, Provolone Cheese, Smoked Go...</td>\n",
       "      <td>18.50</td>\n",
       "    </tr>\n",
       "    <tr>\n",
       "      <th>3</th>\n",
       "      <td>2</td>\n",
       "      <td>2015-01-01</td>\n",
       "      <td>1900-01-01 11:57:40</td>\n",
       "      <td>4</td>\n",
       "      <td>ital_supr_l</td>\n",
       "      <td>1</td>\n",
       "      <td>ital_supr</td>\n",
       "      <td>L</td>\n",
       "      <td>20.75</td>\n",
       "      <td>The Italian Supreme Pizza</td>\n",
       "      <td>Supreme</td>\n",
       "      <td>Calabrese Salami, Capocollo, Tomatoes, Red Oni...</td>\n",
       "      <td>20.75</td>\n",
       "    </tr>\n",
       "    <tr>\n",
       "      <th>4</th>\n",
       "      <td>2</td>\n",
       "      <td>2015-01-01</td>\n",
       "      <td>1900-01-01 11:57:40</td>\n",
       "      <td>5</td>\n",
       "      <td>mexicana_m</td>\n",
       "      <td>1</td>\n",
       "      <td>mexicana</td>\n",
       "      <td>M</td>\n",
       "      <td>16.00</td>\n",
       "      <td>The Mexicana Pizza</td>\n",
       "      <td>Veggie</td>\n",
       "      <td>Tomatoes, Red Peppers, Jalapeno Peppers, Red O...</td>\n",
       "      <td>16.00</td>\n",
       "    </tr>\n",
       "  </tbody>\n",
       "</table>\n",
       "</div>"
      ],
      "text/plain": [
       "   order_id       date                time  order_details_id       pizza_id  \\\n",
       "0         1 2015-01-01 1900-01-01 11:38:36                 1     hawaiian_m   \n",
       "1         2 2015-01-01 1900-01-01 11:57:40                 2  classic_dlx_m   \n",
       "2         2 2015-01-01 1900-01-01 11:57:40                 3  five_cheese_l   \n",
       "3         2 2015-01-01 1900-01-01 11:57:40                 4    ital_supr_l   \n",
       "4         2 2015-01-01 1900-01-01 11:57:40                 5     mexicana_m   \n",
       "\n",
       "   quantity pizza_type_id size  price                       name category  \\\n",
       "0         1      hawaiian    M  13.25         The Hawaiian Pizza  Classic   \n",
       "1         1   classic_dlx    M  16.00   The Classic Deluxe Pizza  Classic   \n",
       "2         1   five_cheese    L  18.50      The Five Cheese Pizza   Veggie   \n",
       "3         1     ital_supr    L  20.75  The Italian Supreme Pizza  Supreme   \n",
       "4         1      mexicana    M  16.00         The Mexicana Pizza   Veggie   \n",
       "\n",
       "                                         ingredients  sales  \n",
       "0           Sliced Ham, Pineapple, Mozzarella Cheese  13.25  \n",
       "1  Pepperoni, Mushrooms, Red Onions, Red Peppers,...  16.00  \n",
       "2  Mozzarella Cheese, Provolone Cheese, Smoked Go...  18.50  \n",
       "3  Calabrese Salami, Capocollo, Tomatoes, Red Oni...  20.75  \n",
       "4  Tomatoes, Red Peppers, Jalapeno Peppers, Red O...  16.00  "
      ]
     },
     "execution_count": 32,
     "metadata": {},
     "output_type": "execute_result"
    }
   ],
   "source": [
    "merged_df.head()"
   ]
  },
  {
   "cell_type": "code",
   "execution_count": 33,
   "id": "6350e582-47ad-49bb-8cb0-f05b60833c75",
   "metadata": {},
   "outputs": [
    {
     "name": "stdout",
     "output_type": "stream",
     "text": [
      "<class 'pandas.core.frame.DataFrame'>\n",
      "RangeIndex: 48620 entries, 0 to 48619\n",
      "Data columns (total 13 columns):\n",
      " #   Column            Non-Null Count  Dtype         \n",
      "---  ------            --------------  -----         \n",
      " 0   order_id          48620 non-null  int64         \n",
      " 1   date              48620 non-null  datetime64[ns]\n",
      " 2   time              48620 non-null  datetime64[ns]\n",
      " 3   order_details_id  48620 non-null  int64         \n",
      " 4   pizza_id          48620 non-null  object        \n",
      " 5   quantity          48620 non-null  int64         \n",
      " 6   pizza_type_id     48620 non-null  object        \n",
      " 7   size              48620 non-null  object        \n",
      " 8   price             48620 non-null  float64       \n",
      " 9   name              48620 non-null  object        \n",
      " 10  category          48620 non-null  object        \n",
      " 11  ingredients       48620 non-null  object        \n",
      " 12  sales             48620 non-null  float64       \n",
      "dtypes: datetime64[ns](2), float64(2), int64(3), object(6)\n",
      "memory usage: 4.8+ MB\n"
     ]
    }
   ],
   "source": [
    "merged_df.info()"
   ]
  },
  {
   "cell_type": "code",
   "execution_count": 34,
   "id": "8d989bcb-035a-439f-aa46-d4ac71b3def3",
   "metadata": {},
   "outputs": [],
   "source": [
    "merged_df.to_csv(\"cleaned_pizza_place_sales.csv\", index=False)"
   ]
  },
  {
   "cell_type": "markdown",
   "id": "32fe10e5-79a5-4e24-b3f0-b7733e0c3a8d",
   "metadata": {},
   "source": [
    "- save cleaned dataset."
   ]
  },
  {
   "cell_type": "markdown",
   "id": "d2be3063-2f69-4a89-891f-2705394b795d",
   "metadata": {},
   "source": [
    "## Data Analysis"
   ]
  },
  {
   "cell_type": "markdown",
   "id": "5314417b-49b8-4770-84f0-58407823c94c",
   "metadata": {},
   "source": [
    "### 1. What is the total revenue/sales?"
   ]
  },
  {
   "cell_type": "code",
   "execution_count": 35,
   "id": "ccc320ae-1a07-4a75-a03a-184a99a60e0e",
   "metadata": {},
   "outputs": [
    {
     "name": "stdout",
     "output_type": "stream",
     "text": [
      "Total sales: $817860.05\n"
     ]
    }
   ],
   "source": [
    "# Total sales\n",
    "total_sales = merged_df[\"sales\"].sum()\n",
    "\n",
    "print(f\"Total sales: ${total_sales:.2f}\")"
   ]
  },
  {
   "cell_type": "markdown",
   "id": "075e57f8-e4f0-4b93-a52f-d0a36b8cd242",
   "metadata": {},
   "source": [
    "### 2.\tFind the total quantity sold."
   ]
  },
  {
   "cell_type": "code",
   "execution_count": 36,
   "id": "bda7cc7f-5321-4f9a-885d-88317d1031d6",
   "metadata": {},
   "outputs": [
    {
     "name": "stdout",
     "output_type": "stream",
     "text": [
      "Total quantity sold:  49574.00\n"
     ]
    }
   ],
   "source": [
    "# Total quantity sold\n",
    "total_quantity_sold = merged_df[\"quantity\"].sum()\n",
    "\n",
    "print(f\"Total quantity sold: {total_quantity_sold: .2f}\")"
   ]
  },
  {
   "cell_type": "markdown",
   "id": "964a881b-f6b8-42c9-b505-56a9bdd37104",
   "metadata": {},
   "source": [
    "### 3.\tFind the total orders."
   ]
  },
  {
   "cell_type": "code",
   "execution_count": 37,
   "id": "1bb14146-0f96-4720-b128-6dce4f122a39",
   "metadata": {},
   "outputs": [
    {
     "name": "stdout",
     "output_type": "stream",
     "text": [
      "Total order:  48620\n"
     ]
    }
   ],
   "source": [
    "# Total order\n",
    "total_order = merged_df[\"order_id\"].count()\n",
    "\n",
    "print(f\"Total order: {total_order: }\")"
   ]
  },
  {
   "cell_type": "markdown",
   "id": "121811c9-de14-4fb1-9192-b2ad78a842b7",
   "metadata": {},
   "source": [
    "### 4.\tHow many pizza types do they sell?"
   ]
  },
  {
   "cell_type": "code",
   "execution_count": 38,
   "id": "c90359e0-1795-44fb-bd90-4408809f426d",
   "metadata": {},
   "outputs": [
    {
     "name": "stdout",
     "output_type": "stream",
     "text": [
      "They sell 32 pizza types\n"
     ]
    }
   ],
   "source": [
    "# Total pizza types they sell\n",
    "pizza_type = merged_df[\"pizza_type_id\"].value_counts()\n",
    "\n",
    "print(f\"They sell {pizza_type.count()} pizza types\")"
   ]
  },
  {
   "cell_type": "markdown",
   "id": "0c193da7-d90f-49c7-a9a0-10ad52bcc9b7",
   "metadata": {},
   "source": [
    "### 5.\tFind the average price of the pizzas?"
   ]
  },
  {
   "cell_type": "code",
   "execution_count": 39,
   "id": "eb420785-1537-4f4e-81ab-eaade396fc3f",
   "metadata": {},
   "outputs": [
    {
     "name": "stdout",
     "output_type": "stream",
     "text": [
      "The average price of pizza is: 16.49\n"
     ]
    }
   ],
   "source": [
    "# Average price of pizza\n",
    "avg_price_of_pizza = merged_df[\"price\"].mean()\n",
    "\n",
    "print(f\"The average price of pizza is: {avg_price_of_pizza:.2f}\")"
   ]
  },
  {
   "cell_type": "markdown",
   "id": "2cbc81ec-3a7f-48c7-bad2-a98a7771668b",
   "metadata": {},
   "source": [
    "### 6.\tWhat are the peak hours of sales?"
   ]
  },
  {
   "cell_type": "code",
   "execution_count": 40,
   "id": "fd80b35f-7a46-4e0f-82ca-ad4ad4c85f66",
   "metadata": {},
   "outputs": [],
   "source": [
    "# Extract hour\n",
    "merged_df[\"hour\"] = merged_df[\"time\"].dt.hour"
   ]
  },
  {
   "cell_type": "code",
   "execution_count": 41,
   "id": "5f74c087-9e0a-4097-b881-5ccbbeae4f43",
   "metadata": {},
   "outputs": [
    {
     "data": {
      "text/html": [
       "<div>\n",
       "<style scoped>\n",
       "    .dataframe tbody tr th:only-of-type {\n",
       "        vertical-align: middle;\n",
       "    }\n",
       "\n",
       "    .dataframe tbody tr th {\n",
       "        vertical-align: top;\n",
       "    }\n",
       "\n",
       "    .dataframe thead th {\n",
       "        text-align: right;\n",
       "    }\n",
       "</style>\n",
       "<table border=\"1\" class=\"dataframe\">\n",
       "  <thead>\n",
       "    <tr style=\"text-align: right;\">\n",
       "      <th></th>\n",
       "      <th>order_id</th>\n",
       "      <th>date</th>\n",
       "      <th>time</th>\n",
       "      <th>order_details_id</th>\n",
       "      <th>pizza_id</th>\n",
       "      <th>quantity</th>\n",
       "      <th>pizza_type_id</th>\n",
       "      <th>size</th>\n",
       "      <th>price</th>\n",
       "      <th>name</th>\n",
       "      <th>category</th>\n",
       "      <th>ingredients</th>\n",
       "      <th>sales</th>\n",
       "      <th>hour</th>\n",
       "    </tr>\n",
       "  </thead>\n",
       "  <tbody>\n",
       "    <tr>\n",
       "      <th>0</th>\n",
       "      <td>1</td>\n",
       "      <td>2015-01-01</td>\n",
       "      <td>1900-01-01 11:38:36</td>\n",
       "      <td>1</td>\n",
       "      <td>hawaiian_m</td>\n",
       "      <td>1</td>\n",
       "      <td>hawaiian</td>\n",
       "      <td>M</td>\n",
       "      <td>13.25</td>\n",
       "      <td>The Hawaiian Pizza</td>\n",
       "      <td>Classic</td>\n",
       "      <td>Sliced Ham, Pineapple, Mozzarella Cheese</td>\n",
       "      <td>13.25</td>\n",
       "      <td>11</td>\n",
       "    </tr>\n",
       "    <tr>\n",
       "      <th>1</th>\n",
       "      <td>2</td>\n",
       "      <td>2015-01-01</td>\n",
       "      <td>1900-01-01 11:57:40</td>\n",
       "      <td>2</td>\n",
       "      <td>classic_dlx_m</td>\n",
       "      <td>1</td>\n",
       "      <td>classic_dlx</td>\n",
       "      <td>M</td>\n",
       "      <td>16.00</td>\n",
       "      <td>The Classic Deluxe Pizza</td>\n",
       "      <td>Classic</td>\n",
       "      <td>Pepperoni, Mushrooms, Red Onions, Red Peppers,...</td>\n",
       "      <td>16.00</td>\n",
       "      <td>11</td>\n",
       "    </tr>\n",
       "    <tr>\n",
       "      <th>2</th>\n",
       "      <td>2</td>\n",
       "      <td>2015-01-01</td>\n",
       "      <td>1900-01-01 11:57:40</td>\n",
       "      <td>3</td>\n",
       "      <td>five_cheese_l</td>\n",
       "      <td>1</td>\n",
       "      <td>five_cheese</td>\n",
       "      <td>L</td>\n",
       "      <td>18.50</td>\n",
       "      <td>The Five Cheese Pizza</td>\n",
       "      <td>Veggie</td>\n",
       "      <td>Mozzarella Cheese, Provolone Cheese, Smoked Go...</td>\n",
       "      <td>18.50</td>\n",
       "      <td>11</td>\n",
       "    </tr>\n",
       "    <tr>\n",
       "      <th>3</th>\n",
       "      <td>2</td>\n",
       "      <td>2015-01-01</td>\n",
       "      <td>1900-01-01 11:57:40</td>\n",
       "      <td>4</td>\n",
       "      <td>ital_supr_l</td>\n",
       "      <td>1</td>\n",
       "      <td>ital_supr</td>\n",
       "      <td>L</td>\n",
       "      <td>20.75</td>\n",
       "      <td>The Italian Supreme Pizza</td>\n",
       "      <td>Supreme</td>\n",
       "      <td>Calabrese Salami, Capocollo, Tomatoes, Red Oni...</td>\n",
       "      <td>20.75</td>\n",
       "      <td>11</td>\n",
       "    </tr>\n",
       "    <tr>\n",
       "      <th>4</th>\n",
       "      <td>2</td>\n",
       "      <td>2015-01-01</td>\n",
       "      <td>1900-01-01 11:57:40</td>\n",
       "      <td>5</td>\n",
       "      <td>mexicana_m</td>\n",
       "      <td>1</td>\n",
       "      <td>mexicana</td>\n",
       "      <td>M</td>\n",
       "      <td>16.00</td>\n",
       "      <td>The Mexicana Pizza</td>\n",
       "      <td>Veggie</td>\n",
       "      <td>Tomatoes, Red Peppers, Jalapeno Peppers, Red O...</td>\n",
       "      <td>16.00</td>\n",
       "      <td>11</td>\n",
       "    </tr>\n",
       "  </tbody>\n",
       "</table>\n",
       "</div>"
      ],
      "text/plain": [
       "   order_id       date                time  order_details_id       pizza_id  \\\n",
       "0         1 2015-01-01 1900-01-01 11:38:36                 1     hawaiian_m   \n",
       "1         2 2015-01-01 1900-01-01 11:57:40                 2  classic_dlx_m   \n",
       "2         2 2015-01-01 1900-01-01 11:57:40                 3  five_cheese_l   \n",
       "3         2 2015-01-01 1900-01-01 11:57:40                 4    ital_supr_l   \n",
       "4         2 2015-01-01 1900-01-01 11:57:40                 5     mexicana_m   \n",
       "\n",
       "   quantity pizza_type_id size  price                       name category  \\\n",
       "0         1      hawaiian    M  13.25         The Hawaiian Pizza  Classic   \n",
       "1         1   classic_dlx    M  16.00   The Classic Deluxe Pizza  Classic   \n",
       "2         1   five_cheese    L  18.50      The Five Cheese Pizza   Veggie   \n",
       "3         1     ital_supr    L  20.75  The Italian Supreme Pizza  Supreme   \n",
       "4         1      mexicana    M  16.00         The Mexicana Pizza   Veggie   \n",
       "\n",
       "                                         ingredients  sales  hour  \n",
       "0           Sliced Ham, Pineapple, Mozzarella Cheese  13.25    11  \n",
       "1  Pepperoni, Mushrooms, Red Onions, Red Peppers,...  16.00    11  \n",
       "2  Mozzarella Cheese, Provolone Cheese, Smoked Go...  18.50    11  \n",
       "3  Calabrese Salami, Capocollo, Tomatoes, Red Oni...  20.75    11  \n",
       "4  Tomatoes, Red Peppers, Jalapeno Peppers, Red O...  16.00    11  "
      ]
     },
     "execution_count": 41,
     "metadata": {},
     "output_type": "execute_result"
    }
   ],
   "source": [
    "merged_df.head()"
   ]
  },
  {
   "cell_type": "code",
   "execution_count": 42,
   "id": "08b88ecb-3dde-4a07-aa52-40e6716f6e24",
   "metadata": {},
   "outputs": [
    {
     "name": "stdout",
     "output_type": "stream",
     "text": [
      "    hour      sales\n",
      "3     12  111877.90\n",
      "4     13  106065.70\n",
      "9     18   89296.85\n",
      "8     17   86237.45\n",
      "10    19   72628.90\n",
      "7     16   70055.40\n",
      "5     14   59201.40\n",
      "11    20   58215.40\n",
      "6     15   52992.30\n",
      "2     11   44935.80\n",
      "12    21   42029.80\n",
      "13    22   22815.15\n",
      "14    23    1121.35\n",
      "1     10     303.65\n",
      "0      9      83.00\n"
     ]
    }
   ],
   "source": [
    "# Group by hours and sales\n",
    "sales_by_hour = merged_df.groupby(\"hour\")[\"sales\"].sum().reset_index()\n",
    "\n",
    "# Sort to find peak hours\n",
    "peak_hours = sales_by_hour.sort_values(by=\"sales\", ascending=False)\n",
    "\n",
    "print(peak_hours)"
   ]
  },
  {
   "cell_type": "code",
   "execution_count": 46,
   "id": "ef305ff2-57b8-4d92-b92c-480557096671",
   "metadata": {},
   "outputs": [
    {
     "data": {
      "image/png": "[encoded data removed]",
      "text/plain": [
       "<Figure size 1000x600 with 1 Axes>"
      ]
     },
     "metadata": {},
     "output_type": "display_data"
    }
   ],
   "source": [
    "# Create a new figure and set the size\n",
    "plt.figure(figsize=(10, 6)) \n",
    "\n",
    "# Create a bar plot using matplotlib\n",
    "plt.bar(sales_by_hour[\"hour\"], sales_by_hour[\"sales\"], color=\"skyblue\", edgecolor=\"black\")\n",
    "\n",
    "# Add a title and axis labels\n",
    "plt.title(\"Sales by Hour of the Day\", fontsize=16)\n",
    "plt.xlabel(\"Hour of Day (24h)\", fontsize=12)\n",
    "plt.ylabel(\"Total Sales\", fontsize=12)\n",
    "\n",
    "# Show every hour\n",
    "plt.xticks(range(0, 24))  \n",
    "\n",
    "# Add horizontal gridlines for better readability\n",
    "plt.grid(axis=\"y\", linestyle=\"--\", alpha=0.7)\n",
    "\n",
    "# Adjust layout to prevent label cut-off\n",
    "plt.tight_layout() \n",
    "\n",
    "plt.show()"
   ]
  },
  {
   "cell_type": "markdown",
   "id": "7a2233e9-ea68-446a-b7e7-a8d668b55a39",
   "metadata": {},
   "source": [
    "- Taller bars = higher sales = peak hours."
   ]
  },
  {
   "cell_type": "markdown",
   "id": "a55850b7-0ffb-4f00-973a-da28bd52576f",
   "metadata": {},
   "source": [
    "### 7.\tFind the total sales made on each day of the week. Which day of the week is when sales are made the most?"
   ]
  },
  {
   "cell_type": "code",
   "execution_count": 47,
   "id": "dc32a942-b899-4222-87e5-f1e54d6aedd8",
   "metadata": {},
   "outputs": [
    {
     "data": {
      "text/html": [
       "<div>\n",
       "<style scoped>\n",
       "    .dataframe tbody tr th:only-of-type {\n",
       "        vertical-align: middle;\n",
       "    }\n",
       "\n",
       "    .dataframe tbody tr th {\n",
       "        vertical-align: top;\n",
       "    }\n",
       "\n",
       "    .dataframe thead th {\n",
       "        text-align: right;\n",
       "    }\n",
       "</style>\n",
       "<table border=\"1\" class=\"dataframe\">\n",
       "  <thead>\n",
       "    <tr style=\"text-align: right;\">\n",
       "      <th></th>\n",
       "      <th>order_id</th>\n",
       "      <th>date</th>\n",
       "      <th>time</th>\n",
       "      <th>order_details_id</th>\n",
       "      <th>pizza_id</th>\n",
       "      <th>quantity</th>\n",
       "      <th>pizza_type_id</th>\n",
       "      <th>size</th>\n",
       "      <th>price</th>\n",
       "      <th>name</th>\n",
       "      <th>category</th>\n",
       "      <th>ingredients</th>\n",
       "      <th>sales</th>\n",
       "      <th>hour</th>\n",
       "      <th>day</th>\n",
       "    </tr>\n",
       "  </thead>\n",
       "  <tbody>\n",
       "    <tr>\n",
       "      <th>0</th>\n",
       "      <td>1</td>\n",
       "      <td>2015-01-01</td>\n",
       "      <td>1900-01-01 11:38:36</td>\n",
       "      <td>1</td>\n",
       "      <td>hawaiian_m</td>\n",
       "      <td>1</td>\n",
       "      <td>hawaiian</td>\n",
       "      <td>M</td>\n",
       "      <td>13.25</td>\n",
       "      <td>The Hawaiian Pizza</td>\n",
       "      <td>Classic</td>\n",
       "      <td>Sliced Ham, Pineapple, Mozzarella Cheese</td>\n",
       "      <td>13.25</td>\n",
       "      <td>11</td>\n",
       "      <td>Thursday</td>\n",
       "    </tr>\n",
       "    <tr>\n",
       "      <th>1</th>\n",
       "      <td>2</td>\n",
       "      <td>2015-01-01</td>\n",
       "      <td>1900-01-01 11:57:40</td>\n",
       "      <td>2</td>\n",
       "      <td>classic_dlx_m</td>\n",
       "      <td>1</td>\n",
       "      <td>classic_dlx</td>\n",
       "      <td>M</td>\n",
       "      <td>16.00</td>\n",
       "      <td>The Classic Deluxe Pizza</td>\n",
       "      <td>Classic</td>\n",
       "      <td>Pepperoni, Mushrooms, Red Onions, Red Peppers,...</td>\n",
       "      <td>16.00</td>\n",
       "      <td>11</td>\n",
       "      <td>Thursday</td>\n",
       "    </tr>\n",
       "    <tr>\n",
       "      <th>2</th>\n",
       "      <td>2</td>\n",
       "      <td>2015-01-01</td>\n",
       "      <td>1900-01-01 11:57:40</td>\n",
       "      <td>3</td>\n",
       "      <td>five_cheese_l</td>\n",
       "      <td>1</td>\n",
       "      <td>five_cheese</td>\n",
       "      <td>L</td>\n",
       "      <td>18.50</td>\n",
       "      <td>The Five Cheese Pizza</td>\n",
       "      <td>Veggie</td>\n",
       "      <td>Mozzarella Cheese, Provolone Cheese, Smoked Go...</td>\n",
       "      <td>18.50</td>\n",
       "      <td>11</td>\n",
       "      <td>Thursday</td>\n",
       "    </tr>\n",
       "    <tr>\n",
       "      <th>3</th>\n",
       "      <td>2</td>\n",
       "      <td>2015-01-01</td>\n",
       "      <td>1900-01-01 11:57:40</td>\n",
       "      <td>4</td>\n",
       "      <td>ital_supr_l</td>\n",
       "      <td>1</td>\n",
       "      <td>ital_supr</td>\n",
       "      <td>L</td>\n",
       "      <td>20.75</td>\n",
       "      <td>The Italian Supreme Pizza</td>\n",
       "      <td>Supreme</td>\n",
       "      <td>Calabrese Salami, Capocollo, Tomatoes, Red Oni...</td>\n",
       "      <td>20.75</td>\n",
       "      <td>11</td>\n",
       "      <td>Thursday</td>\n",
       "    </tr>\n",
       "    <tr>\n",
       "      <th>4</th>\n",
       "      <td>2</td>\n",
       "      <td>2015-01-01</td>\n",
       "      <td>1900-01-01 11:57:40</td>\n",
       "      <td>5</td>\n",
       "      <td>mexicana_m</td>\n",
       "      <td>1</td>\n",
       "      <td>mexicana</td>\n",
       "      <td>M</td>\n",
       "      <td>16.00</td>\n",
       "      <td>The Mexicana Pizza</td>\n",
       "      <td>Veggie</td>\n",
       "      <td>Tomatoes, Red Peppers, Jalapeno Peppers, Red O...</td>\n",
       "      <td>16.00</td>\n",
       "      <td>11</td>\n",
       "      <td>Thursday</td>\n",
       "    </tr>\n",
       "  </tbody>\n",
       "</table>\n",
       "</div>"
      ],
      "text/plain": [
       "   order_id       date                time  order_details_id       pizza_id  \\\n",
       "0         1 2015-01-01 1900-01-01 11:38:36                 1     hawaiian_m   \n",
       "1         2 2015-01-01 1900-01-01 11:57:40                 2  classic_dlx_m   \n",
       "2         2 2015-01-01 1900-01-01 11:57:40                 3  five_cheese_l   \n",
       "3         2 2015-01-01 1900-01-01 11:57:40                 4    ital_supr_l   \n",
       "4         2 2015-01-01 1900-01-01 11:57:40                 5     mexicana_m   \n",
       "\n",
       "   quantity pizza_type_id size  price                       name category  \\\n",
       "0         1      hawaiian    M  13.25         The Hawaiian Pizza  Classic   \n",
       "1         1   classic_dlx    M  16.00   The Classic Deluxe Pizza  Classic   \n",
       "2         1   five_cheese    L  18.50      The Five Cheese Pizza   Veggie   \n",
       "3         1     ital_supr    L  20.75  The Italian Supreme Pizza  Supreme   \n",
       "4         1      mexicana    M  16.00         The Mexicana Pizza   Veggie   \n",
       "\n",
       "                                         ingredients  sales  hour       day  \n",
       "0           Sliced Ham, Pineapple, Mozzarella Cheese  13.25    11  Thursday  \n",
       "1  Pepperoni, Mushrooms, Red Onions, Red Peppers,...  16.00    11  Thursday  \n",
       "2  Mozzarella Cheese, Provolone Cheese, Smoked Go...  18.50    11  Thursday  \n",
       "3  Calabrese Salami, Capocollo, Tomatoes, Red Oni...  20.75    11  Thursday  \n",
       "4  Tomatoes, Red Peppers, Jalapeno Peppers, Red O...  16.00    11  Thursday  "
      ]
     },
     "execution_count": 47,
     "metadata": {},
     "output_type": "execute_result"
    }
   ],
   "source": [
    "# Extract day of the week\n",
    "merged_df[\"day\"] = merged_df[\"date\"].dt.day_name()\n",
    "\n",
    "merged_df.head()"
   ]
  },
  {
   "cell_type": "code",
   "execution_count": 141,
   "id": "9a9769ec-1bca-4f91-a775-44759d088204",
   "metadata": {},
   "outputs": [
    {
     "name": "stdout",
     "output_type": "stream",
     "text": [
      "The day of the week where sales is made the most is on Fridays with  136073.90 sales.\n"
     ]
    }
   ],
   "source": [
    "# Group by day and sales\n",
    "sales_by_day = merged_df.groupby(\"day\")[\"sales\"].sum().reset_index()\n",
    "\n",
    "# Sort to find day of the week where sales are made the most\n",
    "highest_sales_by_day = sales_by_day.sort_values(by=\"sales\", ascending=False)\n",
    "\n",
    "print(f\"The day of the week where sales is made the most is on {highest_sales_by_day[\"day\"][0]}s with {highest_sales_by_day[\"sales\"][0]: .2f} sales.\")"
   ]
  },
  {
   "cell_type": "code",
   "execution_count": 49,
   "id": "8b057b08-fedb-43ac-aea8-ff818000fa43",
   "metadata": {},
   "outputs": [
    {
     "data": {
      "image/png": "[encoded data removed]",
      "text/plain": [
       "<Figure size 1000x600 with 1 Axes>"
      ]
     },
     "metadata": {},
     "output_type": "display_data"
    }
   ],
   "source": [
    "# Create a new figure and set the size\n",
    "plt.figure(figsize=(10, 6)) \n",
    "\n",
    "# Create a bar plot using matplotlib\n",
    "plt.bar(sales_by_day[\"day\"], sales_by_day[\"sales\"], color=\"skyblue\", edgecolor=\"black\")\n",
    "\n",
    "# Add a title and axis labels\n",
    "plt.title(\"Sales by Days of the Week\", fontsize=16)\n",
    "plt.xlabel(\"Days of Week\", fontsize=12)\n",
    "plt.ylabel(\"Total Sales\", fontsize=12)\n",
    "\n",
    "# Show every day\n",
    "plt.xticks(range(0, 7))  \n",
    "\n",
    "# Add horizontal gridlines for better readability\n",
    "plt.grid(axis=\"y\", linestyle=\"--\", alpha=0.7)\n",
    "\n",
    "# Adjust layout to prevent label cut-off\n",
    "plt.tight_layout() \n",
    "\n",
    "plt.show()"
   ]
  },
  {
   "cell_type": "markdown",
   "id": "2243c68a-b4c0-4fa1-82df-66e65af40dc6",
   "metadata": {},
   "source": [
    "### 8.\tFind the top 5 best selling pizzas."
   ]
  },
  {
   "cell_type": "code",
   "execution_count": 65,
   "id": "5c138cb0-b08a-456b-90bc-66f25bcfd9a4",
   "metadata": {},
   "outputs": [
    {
     "data": {
      "text/html": [
       "<div>\n",
       "<style scoped>\n",
       "    .dataframe tbody tr th:only-of-type {\n",
       "        vertical-align: middle;\n",
       "    }\n",
       "\n",
       "    .dataframe tbody tr th {\n",
       "        vertical-align: top;\n",
       "    }\n",
       "\n",
       "    .dataframe thead th {\n",
       "        text-align: right;\n",
       "    }\n",
       "</style>\n",
       "<table border=\"1\" class=\"dataframe\">\n",
       "  <thead>\n",
       "    <tr style=\"text-align: right;\">\n",
       "      <th></th>\n",
       "      <th>order_id</th>\n",
       "      <th>date</th>\n",
       "      <th>time</th>\n",
       "      <th>order_details_id</th>\n",
       "      <th>pizza_id</th>\n",
       "      <th>quantity</th>\n",
       "      <th>pizza_type_id</th>\n",
       "      <th>size</th>\n",
       "      <th>price</th>\n",
       "      <th>name</th>\n",
       "      <th>category</th>\n",
       "      <th>ingredients</th>\n",
       "      <th>sales</th>\n",
       "      <th>hour</th>\n",
       "      <th>day</th>\n",
       "    </tr>\n",
       "  </thead>\n",
       "  <tbody>\n",
       "    <tr>\n",
       "      <th>0</th>\n",
       "      <td>1</td>\n",
       "      <td>2015-01-01</td>\n",
       "      <td>1900-01-01 11:38:36</td>\n",
       "      <td>1</td>\n",
       "      <td>hawaiian_m</td>\n",
       "      <td>1</td>\n",
       "      <td>hawaiian</td>\n",
       "      <td>M</td>\n",
       "      <td>13.25</td>\n",
       "      <td>The Hawaiian Pizza</td>\n",
       "      <td>Classic</td>\n",
       "      <td>Sliced Ham, Pineapple, Mozzarella Cheese</td>\n",
       "      <td>13.25</td>\n",
       "      <td>11</td>\n",
       "      <td>Thursday</td>\n",
       "    </tr>\n",
       "    <tr>\n",
       "      <th>1</th>\n",
       "      <td>2</td>\n",
       "      <td>2015-01-01</td>\n",
       "      <td>1900-01-01 11:57:40</td>\n",
       "      <td>2</td>\n",
       "      <td>classic_dlx_m</td>\n",
       "      <td>1</td>\n",
       "      <td>classic_dlx</td>\n",
       "      <td>M</td>\n",
       "      <td>16.00</td>\n",
       "      <td>The Classic Deluxe Pizza</td>\n",
       "      <td>Classic</td>\n",
       "      <td>Pepperoni, Mushrooms, Red Onions, Red Peppers,...</td>\n",
       "      <td>16.00</td>\n",
       "      <td>11</td>\n",
       "      <td>Thursday</td>\n",
       "    </tr>\n",
       "    <tr>\n",
       "      <th>2</th>\n",
       "      <td>2</td>\n",
       "      <td>2015-01-01</td>\n",
       "      <td>1900-01-01 11:57:40</td>\n",
       "      <td>3</td>\n",
       "      <td>five_cheese_l</td>\n",
       "      <td>1</td>\n",
       "      <td>five_cheese</td>\n",
       "      <td>L</td>\n",
       "      <td>18.50</td>\n",
       "      <td>The Five Cheese Pizza</td>\n",
       "      <td>Veggie</td>\n",
       "      <td>Mozzarella Cheese, Provolone Cheese, Smoked Go...</td>\n",
       "      <td>18.50</td>\n",
       "      <td>11</td>\n",
       "      <td>Thursday</td>\n",
       "    </tr>\n",
       "    <tr>\n",
       "      <th>3</th>\n",
       "      <td>2</td>\n",
       "      <td>2015-01-01</td>\n",
       "      <td>1900-01-01 11:57:40</td>\n",
       "      <td>4</td>\n",
       "      <td>ital_supr_l</td>\n",
       "      <td>1</td>\n",
       "      <td>ital_supr</td>\n",
       "      <td>L</td>\n",
       "      <td>20.75</td>\n",
       "      <td>The Italian Supreme Pizza</td>\n",
       "      <td>Supreme</td>\n",
       "      <td>Calabrese Salami, Capocollo, Tomatoes, Red Oni...</td>\n",
       "      <td>20.75</td>\n",
       "      <td>11</td>\n",
       "      <td>Thursday</td>\n",
       "    </tr>\n",
       "    <tr>\n",
       "      <th>4</th>\n",
       "      <td>2</td>\n",
       "      <td>2015-01-01</td>\n",
       "      <td>1900-01-01 11:57:40</td>\n",
       "      <td>5</td>\n",
       "      <td>mexicana_m</td>\n",
       "      <td>1</td>\n",
       "      <td>mexicana</td>\n",
       "      <td>M</td>\n",
       "      <td>16.00</td>\n",
       "      <td>The Mexicana Pizza</td>\n",
       "      <td>Veggie</td>\n",
       "      <td>Tomatoes, Red Peppers, Jalapeno Peppers, Red O...</td>\n",
       "      <td>16.00</td>\n",
       "      <td>11</td>\n",
       "      <td>Thursday</td>\n",
       "    </tr>\n",
       "  </tbody>\n",
       "</table>\n",
       "</div>"
      ],
      "text/plain": [
       "   order_id       date                time  order_details_id       pizza_id  \\\n",
       "0         1 2015-01-01 1900-01-01 11:38:36                 1     hawaiian_m   \n",
       "1         2 2015-01-01 1900-01-01 11:57:40                 2  classic_dlx_m   \n",
       "2         2 2015-01-01 1900-01-01 11:57:40                 3  five_cheese_l   \n",
       "3         2 2015-01-01 1900-01-01 11:57:40                 4    ital_supr_l   \n",
       "4         2 2015-01-01 1900-01-01 11:57:40                 5     mexicana_m   \n",
       "\n",
       "   quantity pizza_type_id size  price                       name category  \\\n",
       "0         1      hawaiian    M  13.25         The Hawaiian Pizza  Classic   \n",
       "1         1   classic_dlx    M  16.00   The Classic Deluxe Pizza  Classic   \n",
       "2         1   five_cheese    L  18.50      The Five Cheese Pizza   Veggie   \n",
       "3         1     ital_supr    L  20.75  The Italian Supreme Pizza  Supreme   \n",
       "4         1      mexicana    M  16.00         The Mexicana Pizza   Veggie   \n",
       "\n",
       "                                         ingredients  sales  hour       day  \n",
       "0           Sliced Ham, Pineapple, Mozzarella Cheese  13.25    11  Thursday  \n",
       "1  Pepperoni, Mushrooms, Red Onions, Red Peppers,...  16.00    11  Thursday  \n",
       "2  Mozzarella Cheese, Provolone Cheese, Smoked Go...  18.50    11  Thursday  \n",
       "3  Calabrese Salami, Capocollo, Tomatoes, Red Oni...  20.75    11  Thursday  \n",
       "4  Tomatoes, Red Peppers, Jalapeno Peppers, Red O...  16.00    11  Thursday  "
      ]
     },
     "execution_count": 65,
     "metadata": {},
     "output_type": "execute_result"
    }
   ],
   "source": [
    "merged_df.head()"
   ]
  },
  {
   "cell_type": "code",
   "execution_count": 78,
   "id": "cb1e8b77-c3a9-4f1b-b45a-1bd06a105212",
   "metadata": {},
   "outputs": [
    {
     "name": "stdout",
     "output_type": "stream",
     "text": [
      " The top 5 selling pizzas are\n",
      "                            name     sales\n",
      "30        The Thai Chicken Pizza  43434.25\n",
      "0     The Barbecue Chicken Pizza  42768.00\n",
      "4   The California Chicken Pizza  41409.50\n",
      "7       The Classic Deluxe Pizza  38180.50\n",
      "26       The Spicy Italian Pizza  34831.25\n"
     ]
    }
   ],
   "source": [
    "# Group by pizza name and sales\n",
    "best_selling_pizza = merged_df.groupby(\"name\")[\"sales\"].sum().reset_index()\n",
    "\n",
    "# Sort to find top best selling pizza\n",
    "top_5_selling_pizza = best_selling_pizza.sort_values(by=\"sales\", ascending=False)[:5]\n",
    "\n",
    "print(f\" The top 5 selling pizzas are\")\n",
    "print(top_5_selling_pizza)"
   ]
  },
  {
   "cell_type": "code",
   "execution_count": 86,
   "id": "cc338aa2-ad23-4191-833e-11181b46e935",
   "metadata": {},
   "outputs": [
    {
     "data": {
      "image/png": "[encoded data removed]",
      "text/plain": [
       "<Figure size 1000x600 with 1 Axes>"
      ]
     },
     "metadata": {},
     "output_type": "display_data"
    }
   ],
   "source": [
    "# Create the figure\n",
    "plt.figure(figsize=(10, 6))\n",
    "\n",
    "# Plot horizontal bar chart\n",
    "plt.barh(top_5_selling_pizza[\"name\"], top_5_selling_pizza[\"sales\"], color=\"tomato\", edgecolor=\"black\")\n",
    "\n",
    "# Add chart labels and title\n",
    "plt.xlabel(\"Total Quantity Sold\", fontsize=12)\n",
    "plt.title(\"Top 5 Best-Selling Pizzas\", fontsize=16)\n",
    "\n",
    "# Show grid for better readability\n",
    "plt.grid(axis=\"x\", linestyle=\"--\", alpha=0.7)\n",
    "\n",
    "\n",
    "# Tight layout for clean output\n",
    "plt.tight_layout()\n",
    "\n",
    "# Display the plot\n",
    "plt.show()"
   ]
  },
  {
   "cell_type": "markdown",
   "id": "dd55f472-39d8-46be-a0a1-92e8414513d4",
   "metadata": {},
   "source": [
    "### 9.\tFind the sales made in each month. Any trend noticeable?"
   ]
  },
  {
   "cell_type": "code",
   "execution_count": 90,
   "id": "73520453-1bd4-4b2c-b740-8d58e48f2f57",
   "metadata": {},
   "outputs": [
    {
     "data": {
      "text/html": [
       "<div>\n",
       "<style scoped>\n",
       "    .dataframe tbody tr th:only-of-type {\n",
       "        vertical-align: middle;\n",
       "    }\n",
       "\n",
       "    .dataframe tbody tr th {\n",
       "        vertical-align: top;\n",
       "    }\n",
       "\n",
       "    .dataframe thead th {\n",
       "        text-align: right;\n",
       "    }\n",
       "</style>\n",
       "<table border=\"1\" class=\"dataframe\">\n",
       "  <thead>\n",
       "    <tr style=\"text-align: right;\">\n",
       "      <th></th>\n",
       "      <th>order_id</th>\n",
       "      <th>date</th>\n",
       "      <th>time</th>\n",
       "      <th>order_details_id</th>\n",
       "      <th>pizza_id</th>\n",
       "      <th>quantity</th>\n",
       "      <th>pizza_type_id</th>\n",
       "      <th>size</th>\n",
       "      <th>price</th>\n",
       "      <th>name</th>\n",
       "      <th>category</th>\n",
       "      <th>ingredients</th>\n",
       "      <th>sales</th>\n",
       "      <th>hour</th>\n",
       "      <th>day</th>\n",
       "      <th>month</th>\n",
       "      <th>month_num</th>\n",
       "    </tr>\n",
       "  </thead>\n",
       "  <tbody>\n",
       "    <tr>\n",
       "      <th>0</th>\n",
       "      <td>1</td>\n",
       "      <td>2015-01-01</td>\n",
       "      <td>1900-01-01 11:38:36</td>\n",
       "      <td>1</td>\n",
       "      <td>hawaiian_m</td>\n",
       "      <td>1</td>\n",
       "      <td>hawaiian</td>\n",
       "      <td>M</td>\n",
       "      <td>13.25</td>\n",
       "      <td>The Hawaiian Pizza</td>\n",
       "      <td>Classic</td>\n",
       "      <td>Sliced Ham, Pineapple, Mozzarella Cheese</td>\n",
       "      <td>13.25</td>\n",
       "      <td>11</td>\n",
       "      <td>Thursday</td>\n",
       "      <td>January</td>\n",
       "      <td>1</td>\n",
       "    </tr>\n",
       "    <tr>\n",
       "      <th>1</th>\n",
       "      <td>2</td>\n",
       "      <td>2015-01-01</td>\n",
       "      <td>1900-01-01 11:57:40</td>\n",
       "      <td>2</td>\n",
       "      <td>classic_dlx_m</td>\n",
       "      <td>1</td>\n",
       "      <td>classic_dlx</td>\n",
       "      <td>M</td>\n",
       "      <td>16.00</td>\n",
       "      <td>The Classic Deluxe Pizza</td>\n",
       "      <td>Classic</td>\n",
       "      <td>Pepperoni, Mushrooms, Red Onions, Red Peppers,...</td>\n",
       "      <td>16.00</td>\n",
       "      <td>11</td>\n",
       "      <td>Thursday</td>\n",
       "      <td>January</td>\n",
       "      <td>1</td>\n",
       "    </tr>\n",
       "    <tr>\n",
       "      <th>2</th>\n",
       "      <td>2</td>\n",
       "      <td>2015-01-01</td>\n",
       "      <td>1900-01-01 11:57:40</td>\n",
       "      <td>3</td>\n",
       "      <td>five_cheese_l</td>\n",
       "      <td>1</td>\n",
       "      <td>five_cheese</td>\n",
       "      <td>L</td>\n",
       "      <td>18.50</td>\n",
       "      <td>The Five Cheese Pizza</td>\n",
       "      <td>Veggie</td>\n",
       "      <td>Mozzarella Cheese, Provolone Cheese, Smoked Go...</td>\n",
       "      <td>18.50</td>\n",
       "      <td>11</td>\n",
       "      <td>Thursday</td>\n",
       "      <td>January</td>\n",
       "      <td>1</td>\n",
       "    </tr>\n",
       "    <tr>\n",
       "      <th>3</th>\n",
       "      <td>2</td>\n",
       "      <td>2015-01-01</td>\n",
       "      <td>1900-01-01 11:57:40</td>\n",
       "      <td>4</td>\n",
       "      <td>ital_supr_l</td>\n",
       "      <td>1</td>\n",
       "      <td>ital_supr</td>\n",
       "      <td>L</td>\n",
       "      <td>20.75</td>\n",
       "      <td>The Italian Supreme Pizza</td>\n",
       "      <td>Supreme</td>\n",
       "      <td>Calabrese Salami, Capocollo, Tomatoes, Red Oni...</td>\n",
       "      <td>20.75</td>\n",
       "      <td>11</td>\n",
       "      <td>Thursday</td>\n",
       "      <td>January</td>\n",
       "      <td>1</td>\n",
       "    </tr>\n",
       "    <tr>\n",
       "      <th>4</th>\n",
       "      <td>2</td>\n",
       "      <td>2015-01-01</td>\n",
       "      <td>1900-01-01 11:57:40</td>\n",
       "      <td>5</td>\n",
       "      <td>mexicana_m</td>\n",
       "      <td>1</td>\n",
       "      <td>mexicana</td>\n",
       "      <td>M</td>\n",
       "      <td>16.00</td>\n",
       "      <td>The Mexicana Pizza</td>\n",
       "      <td>Veggie</td>\n",
       "      <td>Tomatoes, Red Peppers, Jalapeno Peppers, Red O...</td>\n",
       "      <td>16.00</td>\n",
       "      <td>11</td>\n",
       "      <td>Thursday</td>\n",
       "      <td>January</td>\n",
       "      <td>1</td>\n",
       "    </tr>\n",
       "  </tbody>\n",
       "</table>\n",
       "</div>"
      ],
      "text/plain": [
       "   order_id       date                time  order_details_id       pizza_id  \\\n",
       "0         1 2015-01-01 1900-01-01 11:38:36                 1     hawaiian_m   \n",
       "1         2 2015-01-01 1900-01-01 11:57:40                 2  classic_dlx_m   \n",
       "2         2 2015-01-01 1900-01-01 11:57:40                 3  five_cheese_l   \n",
       "3         2 2015-01-01 1900-01-01 11:57:40                 4    ital_supr_l   \n",
       "4         2 2015-01-01 1900-01-01 11:57:40                 5     mexicana_m   \n",
       "\n",
       "   quantity pizza_type_id size  price                       name category  \\\n",
       "0         1      hawaiian    M  13.25         The Hawaiian Pizza  Classic   \n",
       "1         1   classic_dlx    M  16.00   The Classic Deluxe Pizza  Classic   \n",
       "2         1   five_cheese    L  18.50      The Five Cheese Pizza   Veggie   \n",
       "3         1     ital_supr    L  20.75  The Italian Supreme Pizza  Supreme   \n",
       "4         1      mexicana    M  16.00         The Mexicana Pizza   Veggie   \n",
       "\n",
       "                                         ingredients  sales  hour       day  \\\n",
       "0           Sliced Ham, Pineapple, Mozzarella Cheese  13.25    11  Thursday   \n",
       "1  Pepperoni, Mushrooms, Red Onions, Red Peppers,...  16.00    11  Thursday   \n",
       "2  Mozzarella Cheese, Provolone Cheese, Smoked Go...  18.50    11  Thursday   \n",
       "3  Calabrese Salami, Capocollo, Tomatoes, Red Oni...  20.75    11  Thursday   \n",
       "4  Tomatoes, Red Peppers, Jalapeno Peppers, Red O...  16.00    11  Thursday   \n",
       "\n",
       "     month  month_num  \n",
       "0  January          1  \n",
       "1  January          1  \n",
       "2  January          1  \n",
       "3  January          1  \n",
       "4  January          1  "
      ]
     },
     "execution_count": 90,
     "metadata": {},
     "output_type": "execute_result"
    }
   ],
   "source": [
    "# Extract month\n",
    "merged_df[\"month\"] = merged_df[\"date\"].dt.month_name()\n",
    "merged_df[\"month_num\"] = merged_df[\"date\"].dt.month\n",
    "\n",
    "merged_df.head()"
   ]
  },
  {
   "cell_type": "code",
   "execution_count": 96,
   "id": "9e19ea91-4539-40fb-8f55-b88e042e2a1e",
   "metadata": {},
   "outputs": [
    {
     "data": {
      "text/html": [
       "<div>\n",
       "<style scoped>\n",
       "    .dataframe tbody tr th:only-of-type {\n",
       "        vertical-align: middle;\n",
       "    }\n",
       "\n",
       "    .dataframe tbody tr th {\n",
       "        vertical-align: top;\n",
       "    }\n",
       "\n",
       "    .dataframe thead th {\n",
       "        text-align: right;\n",
       "    }\n",
       "</style>\n",
       "<table border=\"1\" class=\"dataframe\">\n",
       "  <thead>\n",
       "    <tr style=\"text-align: right;\">\n",
       "      <th></th>\n",
       "      <th>month</th>\n",
       "      <th>sales</th>\n",
       "    </tr>\n",
       "  </thead>\n",
       "  <tbody>\n",
       "    <tr>\n",
       "      <th>0</th>\n",
       "      <td>January</td>\n",
       "      <td>69793.30</td>\n",
       "    </tr>\n",
       "    <tr>\n",
       "      <th>1</th>\n",
       "      <td>February</td>\n",
       "      <td>65159.60</td>\n",
       "    </tr>\n",
       "    <tr>\n",
       "      <th>2</th>\n",
       "      <td>March</td>\n",
       "      <td>70397.10</td>\n",
       "    </tr>\n",
       "    <tr>\n",
       "      <th>3</th>\n",
       "      <td>April</td>\n",
       "      <td>68736.80</td>\n",
       "    </tr>\n",
       "    <tr>\n",
       "      <th>4</th>\n",
       "      <td>May</td>\n",
       "      <td>71402.75</td>\n",
       "    </tr>\n",
       "    <tr>\n",
       "      <th>5</th>\n",
       "      <td>June</td>\n",
       "      <td>68230.20</td>\n",
       "    </tr>\n",
       "    <tr>\n",
       "      <th>6</th>\n",
       "      <td>July</td>\n",
       "      <td>72557.90</td>\n",
       "    </tr>\n",
       "    <tr>\n",
       "      <th>7</th>\n",
       "      <td>August</td>\n",
       "      <td>68278.25</td>\n",
       "    </tr>\n",
       "    <tr>\n",
       "      <th>8</th>\n",
       "      <td>September</td>\n",
       "      <td>64180.05</td>\n",
       "    </tr>\n",
       "    <tr>\n",
       "      <th>9</th>\n",
       "      <td>October</td>\n",
       "      <td>64027.60</td>\n",
       "    </tr>\n",
       "    <tr>\n",
       "      <th>10</th>\n",
       "      <td>November</td>\n",
       "      <td>70395.35</td>\n",
       "    </tr>\n",
       "    <tr>\n",
       "      <th>11</th>\n",
       "      <td>December</td>\n",
       "      <td>64701.15</td>\n",
       "    </tr>\n",
       "  </tbody>\n",
       "</table>\n",
       "</div>"
      ],
      "text/plain": [
       "        month     sales\n",
       "0     January  69793.30\n",
       "1    February  65159.60\n",
       "2       March  70397.10\n",
       "3       April  68736.80\n",
       "4         May  71402.75\n",
       "5        June  68230.20\n",
       "6        July  72557.90\n",
       "7      August  68278.25\n",
       "8   September  64180.05\n",
       "9     October  64027.60\n",
       "10   November  70395.35\n",
       "11   December  64701.15"
      ]
     },
     "execution_count": 96,
     "metadata": {},
     "output_type": "execute_result"
    }
   ],
   "source": [
    "# Group by month and month number to maintain calendar order\n",
    "sales_by_month =   merged_df.groupby([\"month_num\", \"month\"])[\"sales\"].sum().reset_index()\n",
    "\n",
    "# Drop 'month_num' after maintain calendar order (for cleaner plot)\n",
    "sales_by_month = sales_by_month[[\"month\", \"sales\"]]\n",
    "\n",
    "sales_by_month"
   ]
  },
  {
   "cell_type": "code",
   "execution_count": 123,
   "id": "37747814-02e3-4e12-acc3-894298644399",
   "metadata": {},
   "outputs": [
    {
     "data": {
      "image/png": "[encoded data removed]",
      "text/plain": [
       "<Figure size 1000x600 with 1 Axes>"
      ]
     },
     "metadata": {},
     "output_type": "display_data"
    }
   ],
   "source": [
    "# Create the figure\n",
    "plt.figure(figsize=(10, 6))\n",
    "\n",
    "# Plot line plot\n",
    "plt.plot(sales_by_month[\"month\"], sales_by_month[\"sales\"], marker=\"o\", linestyle=\"-\", color=\"darkgreen\")\n",
    "\n",
    "# Add chart labels and title\n",
    "plt.title(\"Sales Across Months\", fontsize=16)\n",
    "plt.xlabel(\"Month\", fontsize=12)\n",
    "plt.ylabel(\"Total Sales\", fontsize=12)\n",
    "\n",
    "# Rotate x-axis labels to fit\n",
    "plt.xticks(rotation=45)\n",
    "\n",
    "# Show grid for better readability\n",
    "plt.grid(axis=\"y\", linestyle=\"--\", alpha=0.7)\n",
    "\n",
    "# Tight layout for clean output\n",
    "plt.tight_layout()\n",
    "\n",
    "# Display the plot\n",
    "plt.show()"
   ]
  },
  {
   "cell_type": "markdown",
   "id": "d05eb7cc-e73b-4047-a3d2-e183c6874a03",
   "metadata": {},
   "source": [
    "#### The notable trends are: \n",
    "- July has the highest sales, suggesting a strong peak mid-year - possibly due to school holidays, weather, or seasonal promotions.\n",
    "- September and October show the lowest sales, indicating a potential slump during this period.\n",
    "- February also experiences a dip, though not as sharp as September–October.\n",
    "- November and March–May show strong performance, just below July."
   ]
  },
  {
   "cell_type": "markdown",
   "id": "1db38d21-92e6-4f96-a20c-938d686a7da1",
   "metadata": {},
   "source": [
    "### 10.\tAre there pizza types that are not doing well on the menu?"
   ]
  },
  {
   "cell_type": "code",
   "execution_count": 111,
   "id": "6181723d-c3bb-4ed3-9de5-5eddc4c314ed",
   "metadata": {},
   "outputs": [
    {
     "name": "stdout",
     "output_type": "stream",
     "text": [
      "The least 5 performing pizzas are:\n",
      "The Brie Carre Pizza with 11588.5 sales\n",
      "The Green Garden Pizza with 13955.75 sales\n",
      "The Spinach Supreme Pizza with 15277.75 sales\n",
      "The Mediterranean Pizza with 15360.5 sales\n",
      "The Spinach Pesto Pizza with 15596.0 sales\n"
     ]
    }
   ],
   "source": [
    "# Group by pizza name and sales\n",
    "sales_by_pizza = merged_df.groupby(\"name\")[\"sales\"].sum().reset_index()\n",
    "\n",
    "# Sorting by sales\n",
    "least_5_selling_pizza = sales_by_pizza.sort_values(by=\"sales\", ascending=True)[:5]\n",
    "\n",
    "print(f\"The least 5 performing pizzas are:\") \n",
    "print(f\"{least_5_selling_pizza[\"name\"][2]} with {least_5_selling_pizza[\"sales\"][2]} sales\")\n",
    "print(f\"{least_5_selling_pizza[\"name\"][11]} with {least_5_selling_pizza[\"sales\"][11]} sales\")\n",
    "print(f\"{least_5_selling_pizza[\"name\"][28]} with {least_5_selling_pizza[\"sales\"][28]} sales\")\n",
    "print(f\"{least_5_selling_pizza[\"name\"][16]} with {least_5_selling_pizza[\"sales\"][16]} sales\")\n",
    "print(f\"{least_5_selling_pizza[\"name\"][27]} with {least_5_selling_pizza[\"sales\"][27]} sales\")"
   ]
  },
  {
   "cell_type": "markdown",
   "id": "e397fb85-f6cc-4f92-ad6f-9b5da14cad37",
   "metadata": {},
   "source": [
    "### 11. Most preferred pizza size?"
   ]
  },
  {
   "cell_type": "code",
   "execution_count": 114,
   "id": "ba1d809a-0a31-4324-ae54-28ae7030d187",
   "metadata": {},
   "outputs": [
    {
     "data": {
      "text/html": [
       "<div>\n",
       "<style scoped>\n",
       "    .dataframe tbody tr th:only-of-type {\n",
       "        vertical-align: middle;\n",
       "    }\n",
       "\n",
       "    .dataframe tbody tr th {\n",
       "        vertical-align: top;\n",
       "    }\n",
       "\n",
       "    .dataframe thead th {\n",
       "        text-align: right;\n",
       "    }\n",
       "</style>\n",
       "<table border=\"1\" class=\"dataframe\">\n",
       "  <thead>\n",
       "    <tr style=\"text-align: right;\">\n",
       "      <th></th>\n",
       "      <th>order_id</th>\n",
       "      <th>date</th>\n",
       "      <th>time</th>\n",
       "      <th>order_details_id</th>\n",
       "      <th>pizza_id</th>\n",
       "      <th>quantity</th>\n",
       "      <th>pizza_type_id</th>\n",
       "      <th>size</th>\n",
       "      <th>price</th>\n",
       "      <th>name</th>\n",
       "      <th>category</th>\n",
       "      <th>ingredients</th>\n",
       "      <th>sales</th>\n",
       "      <th>hour</th>\n",
       "      <th>day</th>\n",
       "      <th>month</th>\n",
       "      <th>month_num</th>\n",
       "      <th>year</th>\n",
       "    </tr>\n",
       "  </thead>\n",
       "  <tbody>\n",
       "    <tr>\n",
       "      <th>0</th>\n",
       "      <td>1</td>\n",
       "      <td>2015-01-01</td>\n",
       "      <td>1900-01-01 11:38:36</td>\n",
       "      <td>1</td>\n",
       "      <td>hawaiian_m</td>\n",
       "      <td>1</td>\n",
       "      <td>hawaiian</td>\n",
       "      <td>M</td>\n",
       "      <td>13.25</td>\n",
       "      <td>The Hawaiian Pizza</td>\n",
       "      <td>Classic</td>\n",
       "      <td>Sliced Ham, Pineapple, Mozzarella Cheese</td>\n",
       "      <td>13.25</td>\n",
       "      <td>11</td>\n",
       "      <td>Thursday</td>\n",
       "      <td>January</td>\n",
       "      <td>1</td>\n",
       "      <td>2015</td>\n",
       "    </tr>\n",
       "    <tr>\n",
       "      <th>1</th>\n",
       "      <td>2</td>\n",
       "      <td>2015-01-01</td>\n",
       "      <td>1900-01-01 11:57:40</td>\n",
       "      <td>2</td>\n",
       "      <td>classic_dlx_m</td>\n",
       "      <td>1</td>\n",
       "      <td>classic_dlx</td>\n",
       "      <td>M</td>\n",
       "      <td>16.00</td>\n",
       "      <td>The Classic Deluxe Pizza</td>\n",
       "      <td>Classic</td>\n",
       "      <td>Pepperoni, Mushrooms, Red Onions, Red Peppers,...</td>\n",
       "      <td>16.00</td>\n",
       "      <td>11</td>\n",
       "      <td>Thursday</td>\n",
       "      <td>January</td>\n",
       "      <td>1</td>\n",
       "      <td>2015</td>\n",
       "    </tr>\n",
       "    <tr>\n",
       "      <th>2</th>\n",
       "      <td>2</td>\n",
       "      <td>2015-01-01</td>\n",
       "      <td>1900-01-01 11:57:40</td>\n",
       "      <td>3</td>\n",
       "      <td>five_cheese_l</td>\n",
       "      <td>1</td>\n",
       "      <td>five_cheese</td>\n",
       "      <td>L</td>\n",
       "      <td>18.50</td>\n",
       "      <td>The Five Cheese Pizza</td>\n",
       "      <td>Veggie</td>\n",
       "      <td>Mozzarella Cheese, Provolone Cheese, Smoked Go...</td>\n",
       "      <td>18.50</td>\n",
       "      <td>11</td>\n",
       "      <td>Thursday</td>\n",
       "      <td>January</td>\n",
       "      <td>1</td>\n",
       "      <td>2015</td>\n",
       "    </tr>\n",
       "    <tr>\n",
       "      <th>3</th>\n",
       "      <td>2</td>\n",
       "      <td>2015-01-01</td>\n",
       "      <td>1900-01-01 11:57:40</td>\n",
       "      <td>4</td>\n",
       "      <td>ital_supr_l</td>\n",
       "      <td>1</td>\n",
       "      <td>ital_supr</td>\n",
       "      <td>L</td>\n",
       "      <td>20.75</td>\n",
       "      <td>The Italian Supreme Pizza</td>\n",
       "      <td>Supreme</td>\n",
       "      <td>Calabrese Salami, Capocollo, Tomatoes, Red Oni...</td>\n",
       "      <td>20.75</td>\n",
       "      <td>11</td>\n",
       "      <td>Thursday</td>\n",
       "      <td>January</td>\n",
       "      <td>1</td>\n",
       "      <td>2015</td>\n",
       "    </tr>\n",
       "    <tr>\n",
       "      <th>4</th>\n",
       "      <td>2</td>\n",
       "      <td>2015-01-01</td>\n",
       "      <td>1900-01-01 11:57:40</td>\n",
       "      <td>5</td>\n",
       "      <td>mexicana_m</td>\n",
       "      <td>1</td>\n",
       "      <td>mexicana</td>\n",
       "      <td>M</td>\n",
       "      <td>16.00</td>\n",
       "      <td>The Mexicana Pizza</td>\n",
       "      <td>Veggie</td>\n",
       "      <td>Tomatoes, Red Peppers, Jalapeno Peppers, Red O...</td>\n",
       "      <td>16.00</td>\n",
       "      <td>11</td>\n",
       "      <td>Thursday</td>\n",
       "      <td>January</td>\n",
       "      <td>1</td>\n",
       "      <td>2015</td>\n",
       "    </tr>\n",
       "  </tbody>\n",
       "</table>\n",
       "</div>"
      ],
      "text/plain": [
       "   order_id       date                time  order_details_id       pizza_id  \\\n",
       "0         1 2015-01-01 1900-01-01 11:38:36                 1     hawaiian_m   \n",
       "1         2 2015-01-01 1900-01-01 11:57:40                 2  classic_dlx_m   \n",
       "2         2 2015-01-01 1900-01-01 11:57:40                 3  five_cheese_l   \n",
       "3         2 2015-01-01 1900-01-01 11:57:40                 4    ital_supr_l   \n",
       "4         2 2015-01-01 1900-01-01 11:57:40                 5     mexicana_m   \n",
       "\n",
       "   quantity pizza_type_id size  price                       name category  \\\n",
       "0         1      hawaiian    M  13.25         The Hawaiian Pizza  Classic   \n",
       "1         1   classic_dlx    M  16.00   The Classic Deluxe Pizza  Classic   \n",
       "2         1   five_cheese    L  18.50      The Five Cheese Pizza   Veggie   \n",
       "3         1     ital_supr    L  20.75  The Italian Supreme Pizza  Supreme   \n",
       "4         1      mexicana    M  16.00         The Mexicana Pizza   Veggie   \n",
       "\n",
       "                                         ingredients  sales  hour       day  \\\n",
       "0           Sliced Ham, Pineapple, Mozzarella Cheese  13.25    11  Thursday   \n",
       "1  Pepperoni, Mushrooms, Red Onions, Red Peppers,...  16.00    11  Thursday   \n",
       "2  Mozzarella Cheese, Provolone Cheese, Smoked Go...  18.50    11  Thursday   \n",
       "3  Calabrese Salami, Capocollo, Tomatoes, Red Oni...  20.75    11  Thursday   \n",
       "4  Tomatoes, Red Peppers, Jalapeno Peppers, Red O...  16.00    11  Thursday   \n",
       "\n",
       "     month  month_num  year  \n",
       "0  January          1  2015  \n",
       "1  January          1  2015  \n",
       "2  January          1  2015  \n",
       "3  January          1  2015  \n",
       "4  January          1  2015  "
      ]
     },
     "execution_count": 114,
     "metadata": {},
     "output_type": "execute_result"
    }
   ],
   "source": [
    "merged_df.head()"
   ]
  },
  {
   "cell_type": "code",
   "execution_count": 125,
   "id": "68ca5cb3-289d-44ca-9415-6dc47c574903",
   "metadata": {},
   "outputs": [
    {
     "data": {
      "text/plain": [
       "size\n",
       "L      18526\n",
       "M      15385\n",
       "S      14137\n",
       "XL       544\n",
       "XXL       28\n",
       "Name: count, dtype: int64"
      ]
     },
     "execution_count": 125,
     "metadata": {},
     "output_type": "execute_result"
    }
   ],
   "source": [
    "merged_df[\"size\"].value_counts()"
   ]
  },
  {
   "cell_type": "code",
   "execution_count": 130,
   "id": "e20da42e-dc9d-4eea-ac4f-85e028d583bb",
   "metadata": {},
   "outputs": [
    {
     "data": {
      "text/html": [
       "<div>\n",
       "<style scoped>\n",
       "    .dataframe tbody tr th:only-of-type {\n",
       "        vertical-align: middle;\n",
       "    }\n",
       "\n",
       "    .dataframe tbody tr th {\n",
       "        vertical-align: top;\n",
       "    }\n",
       "\n",
       "    .dataframe thead th {\n",
       "        text-align: right;\n",
       "    }\n",
       "</style>\n",
       "<table border=\"1\" class=\"dataframe\">\n",
       "  <thead>\n",
       "    <tr style=\"text-align: right;\">\n",
       "      <th></th>\n",
       "      <th>size</th>\n",
       "      <th>sales</th>\n",
       "    </tr>\n",
       "  </thead>\n",
       "  <tbody>\n",
       "    <tr>\n",
       "      <th>0</th>\n",
       "      <td>L</td>\n",
       "      <td>375318.70</td>\n",
       "    </tr>\n",
       "    <tr>\n",
       "      <th>1</th>\n",
       "      <td>M</td>\n",
       "      <td>249382.25</td>\n",
       "    </tr>\n",
       "    <tr>\n",
       "      <th>2</th>\n",
       "      <td>S</td>\n",
       "      <td>178076.50</td>\n",
       "    </tr>\n",
       "    <tr>\n",
       "      <th>3</th>\n",
       "      <td>XL</td>\n",
       "      <td>14076.00</td>\n",
       "    </tr>\n",
       "    <tr>\n",
       "      <th>4</th>\n",
       "      <td>XXL</td>\n",
       "      <td>1006.60</td>\n",
       "    </tr>\n",
       "  </tbody>\n",
       "</table>\n",
       "</div>"
      ],
      "text/plain": [
       "  size      sales\n",
       "0    L  375318.70\n",
       "1    M  249382.25\n",
       "2    S  178076.50\n",
       "3   XL   14076.00\n",
       "4  XXL    1006.60"
      ]
     },
     "execution_count": 130,
     "metadata": {},
     "output_type": "execute_result"
    }
   ],
   "source": [
    "# sales by pizza size\n",
    "pizza_size_sales = merged_df.groupby(\"size\")[\"sales\"].sum().reset_index()\n",
    "\n",
    "# Sorting by sales\n",
    "pizza_size_sales = pizza_size_sales.sort_values(\"sales\", ascending=False)\n",
    "\n",
    "pizza_size_sales"
   ]
  },
  {
   "cell_type": "code",
   "execution_count": 133,
   "id": "d149b46d-6dd0-403f-bc12-ab1442ea8942",
   "metadata": {},
   "outputs": [
    {
     "data": {
      "image/png": "[encoded data removed]",
      "text/plain": [
       "<Figure size 800x500 with 1 Axes>"
      ]
     },
     "metadata": {},
     "output_type": "display_data"
    }
   ],
   "source": [
    "# Create the figure\n",
    "plt.figure(figsize=(8, 5))\n",
    "\n",
    "# Plot bar chart\n",
    "plt.bar(pizza_size_sales[\"size\"], pizza_size_sales[\"sales\"], color=\"tomato\", edgecolor=\"black\")\n",
    "\n",
    "# Add chart labels and title\n",
    "plt.title(\"Most Preferred Pizza Sizes\", fontsize=16)\n",
    "plt.xlabel(\"Pizza Size\", fontsize=12)\n",
    "plt.ylabel(\"Total Quantity Sold\", fontsize=12)\n",
    "\n",
    "# Show grid for better readability\n",
    "plt.grid(axis=\"y\", linestyle=\"--\", alpha=0.7)\n",
    "\n",
    "# Tight layout for clean output\n",
    "plt.tight_layout()\n",
    "\n",
    "# Display the plot\n",
    "plt.show()"
   ]
  },
  {
   "cell_type": "code",
   "execution_count": 139,
   "id": "17016507-b782-4229-8b46-e097ea73299b",
   "metadata": {},
   "outputs": [
    {
     "name": "stdout",
     "output_type": "stream",
     "text": [
      "The most preferred Pizza sizes are L (Large) and M (Medium) respectively.\n"
     ]
    }
   ],
   "source": [
    "print(f\"The most preferred Pizza sizes are {pizza_size_sales[\"size\"][0]} (Large) and {pizza_size_sales[\"size\"][1]} (Medium) respectively.\")"
   ]
  },
  {
   "cell_type": "code",
   "execution_count": null,
   "id": "43b1edf4-9dea-4867-bcc1-ce1558dd3550",
   "metadata": {},
   "outputs": [],
   "source": []
  }
 ],
 "metadata": {
  "kernelspec": {
   "display_name": "Python 3 (ipykernel)",
   "language": "python",
   "name": "python3"
  },
  "language_info": {
   "codemirror_mode": {
    "name": "ipython",
    "version": 3
   },
   "file_extension": ".py",
   "mimetype": "text/x-python",
   "name": "python",
   "nbconvert_exporter": "python",
   "pygments_lexer": "ipython3",
   "version": "3.12.7"
  }
 },
 "nbformat": 4,
 "nbformat_minor": 5
}
